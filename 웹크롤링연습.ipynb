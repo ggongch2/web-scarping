{
  "nbformat": 4,
  "nbformat_minor": 0,
  "metadata": {
    "colab": {
      "provenance": [],
      "authorship_tag": "ABX9TyNq7FWpurhJUijEN6+qpLiI",
      "include_colab_link": true
    },
    "kernelspec": {
      "name": "python3",
      "display_name": "Python 3"
    },
    "language_info": {
      "name": "python"
    }
  },
  "cells": [
    {
      "cell_type": "markdown",
      "metadata": {
        "id": "view-in-github",
        "colab_type": "text"
      },
      "source": [
        "<a href=\"https://colab.research.google.com/github/ggongch2/web-scarping/blob/main/%EC%9B%B9%ED%81%AC%EB%A1%A4%EB%A7%81%EC%97%B0%EC%8A%B5.ipynb\" target=\"_parent\"><img src=\"https://colab.research.google.com/assets/colab-badge.svg\" alt=\"Open In Colab\"/></a>"
      ]
    },
    {
      "cell_type": "code",
      "source": [
        "pip install selenium"
      ],
      "metadata": {
        "id": "tWhEOp94m-or",
        "colab": {
          "base_uri": "https://localhost:8080/"
        },
        "outputId": "8ba5fc7d-13d1-435c-fb69-66463c7f216a"
      },
      "execution_count": 1,
      "outputs": [
        {
          "output_type": "stream",
          "name": "stdout",
          "text": [
            "Collecting selenium\n",
            "  Downloading selenium-4.27.1-py3-none-any.whl.metadata (7.1 kB)\n",
            "Requirement already satisfied: urllib3<3,>=1.26 in /usr/local/lib/python3.11/dist-packages (from urllib3[socks]<3,>=1.26->selenium) (2.3.0)\n",
            "Collecting trio~=0.17 (from selenium)\n",
            "  Downloading trio-0.28.0-py3-none-any.whl.metadata (8.5 kB)\n",
            "Collecting trio-websocket~=0.9 (from selenium)\n",
            "  Downloading trio_websocket-0.11.1-py3-none-any.whl.metadata (4.7 kB)\n",
            "Requirement already satisfied: certifi>=2021.10.8 in /usr/local/lib/python3.11/dist-packages (from selenium) (2024.12.14)\n",
            "Requirement already satisfied: typing_extensions~=4.9 in /usr/local/lib/python3.11/dist-packages (from selenium) (4.12.2)\n",
            "Requirement already satisfied: websocket-client~=1.8 in /usr/local/lib/python3.11/dist-packages (from selenium) (1.8.0)\n",
            "Requirement already satisfied: attrs>=23.2.0 in /usr/local/lib/python3.11/dist-packages (from trio~=0.17->selenium) (24.3.0)\n",
            "Collecting sortedcontainers (from trio~=0.17->selenium)\n",
            "  Downloading sortedcontainers-2.4.0-py2.py3-none-any.whl.metadata (10 kB)\n",
            "Requirement already satisfied: idna in /usr/local/lib/python3.11/dist-packages (from trio~=0.17->selenium) (3.10)\n",
            "Collecting outcome (from trio~=0.17->selenium)\n",
            "  Downloading outcome-1.3.0.post0-py2.py3-none-any.whl.metadata (2.6 kB)\n",
            "Requirement already satisfied: sniffio>=1.3.0 in /usr/local/lib/python3.11/dist-packages (from trio~=0.17->selenium) (1.3.1)\n",
            "Collecting wsproto>=0.14 (from trio-websocket~=0.9->selenium)\n",
            "  Downloading wsproto-1.2.0-py3-none-any.whl.metadata (5.6 kB)\n",
            "Requirement already satisfied: pysocks!=1.5.7,<2.0,>=1.5.6 in /usr/local/lib/python3.11/dist-packages (from urllib3[socks]<3,>=1.26->selenium) (1.7.1)\n",
            "Requirement already satisfied: h11<1,>=0.9.0 in /usr/local/lib/python3.11/dist-packages (from wsproto>=0.14->trio-websocket~=0.9->selenium) (0.14.0)\n",
            "Downloading selenium-4.27.1-py3-none-any.whl (9.7 MB)\n",
            "\u001b[2K   \u001b[90m━━━━━━━━━━━━━━━━━━━━━━━━━━━━━━━━━━━━━━━━\u001b[0m \u001b[32m9.7/9.7 MB\u001b[0m \u001b[31m38.1 MB/s\u001b[0m eta \u001b[36m0:00:00\u001b[0m\n",
            "\u001b[?25hDownloading trio-0.28.0-py3-none-any.whl (486 kB)\n",
            "\u001b[2K   \u001b[90m━━━━━━━━━━━━━━━━━━━━━━━━━━━━━━━━━━━━━━━━\u001b[0m \u001b[32m486.3/486.3 kB\u001b[0m \u001b[31m15.6 MB/s\u001b[0m eta \u001b[36m0:00:00\u001b[0m\n",
            "\u001b[?25hDownloading trio_websocket-0.11.1-py3-none-any.whl (17 kB)\n",
            "Downloading wsproto-1.2.0-py3-none-any.whl (24 kB)\n",
            "Downloading outcome-1.3.0.post0-py2.py3-none-any.whl (10 kB)\n",
            "Downloading sortedcontainers-2.4.0-py2.py3-none-any.whl (29 kB)\n",
            "Installing collected packages: sortedcontainers, wsproto, outcome, trio, trio-websocket, selenium\n",
            "Successfully installed outcome-1.3.0.post0 selenium-4.27.1 sortedcontainers-2.4.0 trio-0.28.0 trio-websocket-0.11.1 wsproto-1.2.0\n"
          ]
        }
      ]
    },
    {
      "cell_type": "code",
      "source": [
        "from google.colab import drive\n",
        "drive.mount('/content/drive')"
      ],
      "metadata": {
        "colab": {
          "base_uri": "https://localhost:8080/",
          "height": 318
        },
        "id": "WuNG4Z8ynECC",
        "outputId": "73efe2e0-24b8-4032-ebbd-350ed80ca84f"
      },
      "execution_count": 2,
      "outputs": [
        {
          "output_type": "error",
          "ename": "MessageError",
          "evalue": "Error: credential propagation was unsuccessful",
          "traceback": [
            "\u001b[0;31m---------------------------------------------------------------------------\u001b[0m",
            "\u001b[0;31mMessageError\u001b[0m                              Traceback (most recent call last)",
            "\u001b[0;32m<ipython-input-2-d5df0069828e>\u001b[0m in \u001b[0;36m<cell line: 0>\u001b[0;34m()\u001b[0m\n\u001b[1;32m      1\u001b[0m \u001b[0;32mfrom\u001b[0m \u001b[0mgoogle\u001b[0m\u001b[0;34m.\u001b[0m\u001b[0mcolab\u001b[0m \u001b[0;32mimport\u001b[0m \u001b[0mdrive\u001b[0m\u001b[0;34m\u001b[0m\u001b[0;34m\u001b[0m\u001b[0m\n\u001b[0;32m----> 2\u001b[0;31m \u001b[0mdrive\u001b[0m\u001b[0;34m.\u001b[0m\u001b[0mmount\u001b[0m\u001b[0;34m(\u001b[0m\u001b[0;34m'/content/drive'\u001b[0m\u001b[0;34m)\u001b[0m\u001b[0;34m\u001b[0m\u001b[0;34m\u001b[0m\u001b[0m\n\u001b[0m",
            "\u001b[0;32m/usr/local/lib/python3.11/dist-packages/google/colab/drive.py\u001b[0m in \u001b[0;36mmount\u001b[0;34m(mountpoint, force_remount, timeout_ms, readonly)\u001b[0m\n\u001b[1;32m     98\u001b[0m \u001b[0;32mdef\u001b[0m \u001b[0mmount\u001b[0m\u001b[0;34m(\u001b[0m\u001b[0mmountpoint\u001b[0m\u001b[0;34m,\u001b[0m \u001b[0mforce_remount\u001b[0m\u001b[0;34m=\u001b[0m\u001b[0;32mFalse\u001b[0m\u001b[0;34m,\u001b[0m \u001b[0mtimeout_ms\u001b[0m\u001b[0;34m=\u001b[0m\u001b[0;36m120000\u001b[0m\u001b[0;34m,\u001b[0m \u001b[0mreadonly\u001b[0m\u001b[0;34m=\u001b[0m\u001b[0;32mFalse\u001b[0m\u001b[0;34m)\u001b[0m\u001b[0;34m:\u001b[0m\u001b[0;34m\u001b[0m\u001b[0;34m\u001b[0m\u001b[0m\n\u001b[1;32m     99\u001b[0m   \u001b[0;34m\"\"\"Mount your Google Drive at the specified mountpoint path.\"\"\"\u001b[0m\u001b[0;34m\u001b[0m\u001b[0;34m\u001b[0m\u001b[0m\n\u001b[0;32m--> 100\u001b[0;31m   return _mount(\n\u001b[0m\u001b[1;32m    101\u001b[0m       \u001b[0mmountpoint\u001b[0m\u001b[0;34m,\u001b[0m\u001b[0;34m\u001b[0m\u001b[0;34m\u001b[0m\u001b[0m\n\u001b[1;32m    102\u001b[0m       \u001b[0mforce_remount\u001b[0m\u001b[0;34m=\u001b[0m\u001b[0mforce_remount\u001b[0m\u001b[0;34m,\u001b[0m\u001b[0;34m\u001b[0m\u001b[0;34m\u001b[0m\u001b[0m\n",
            "\u001b[0;32m/usr/local/lib/python3.11/dist-packages/google/colab/drive.py\u001b[0m in \u001b[0;36m_mount\u001b[0;34m(mountpoint, force_remount, timeout_ms, ephemeral, readonly)\u001b[0m\n\u001b[1;32m    135\u001b[0m   )\n\u001b[1;32m    136\u001b[0m   \u001b[0;32mif\u001b[0m \u001b[0mephemeral\u001b[0m\u001b[0;34m:\u001b[0m\u001b[0;34m\u001b[0m\u001b[0;34m\u001b[0m\u001b[0m\n\u001b[0;32m--> 137\u001b[0;31m     _message.blocking_request(\n\u001b[0m\u001b[1;32m    138\u001b[0m         \u001b[0;34m'request_auth'\u001b[0m\u001b[0;34m,\u001b[0m\u001b[0;34m\u001b[0m\u001b[0;34m\u001b[0m\u001b[0m\n\u001b[1;32m    139\u001b[0m         \u001b[0mrequest\u001b[0m\u001b[0;34m=\u001b[0m\u001b[0;34m{\u001b[0m\u001b[0;34m'authType'\u001b[0m\u001b[0;34m:\u001b[0m \u001b[0;34m'dfs_ephemeral'\u001b[0m\u001b[0;34m}\u001b[0m\u001b[0;34m,\u001b[0m\u001b[0;34m\u001b[0m\u001b[0;34m\u001b[0m\u001b[0m\n",
            "\u001b[0;32m/usr/local/lib/python3.11/dist-packages/google/colab/_message.py\u001b[0m in \u001b[0;36mblocking_request\u001b[0;34m(request_type, request, timeout_sec, parent)\u001b[0m\n\u001b[1;32m    174\u001b[0m       \u001b[0mrequest_type\u001b[0m\u001b[0;34m,\u001b[0m \u001b[0mrequest\u001b[0m\u001b[0;34m,\u001b[0m \u001b[0mparent\u001b[0m\u001b[0;34m=\u001b[0m\u001b[0mparent\u001b[0m\u001b[0;34m,\u001b[0m \u001b[0mexpect_reply\u001b[0m\u001b[0;34m=\u001b[0m\u001b[0;32mTrue\u001b[0m\u001b[0;34m\u001b[0m\u001b[0;34m\u001b[0m\u001b[0m\n\u001b[1;32m    175\u001b[0m   )\n\u001b[0;32m--> 176\u001b[0;31m   \u001b[0;32mreturn\u001b[0m \u001b[0mread_reply_from_input\u001b[0m\u001b[0;34m(\u001b[0m\u001b[0mrequest_id\u001b[0m\u001b[0;34m,\u001b[0m \u001b[0mtimeout_sec\u001b[0m\u001b[0;34m)\u001b[0m\u001b[0;34m\u001b[0m\u001b[0;34m\u001b[0m\u001b[0m\n\u001b[0m",
            "\u001b[0;32m/usr/local/lib/python3.11/dist-packages/google/colab/_message.py\u001b[0m in \u001b[0;36mread_reply_from_input\u001b[0;34m(message_id, timeout_sec)\u001b[0m\n\u001b[1;32m    101\u001b[0m     ):\n\u001b[1;32m    102\u001b[0m       \u001b[0;32mif\u001b[0m \u001b[0;34m'error'\u001b[0m \u001b[0;32min\u001b[0m \u001b[0mreply\u001b[0m\u001b[0;34m:\u001b[0m\u001b[0;34m\u001b[0m\u001b[0;34m\u001b[0m\u001b[0m\n\u001b[0;32m--> 103\u001b[0;31m         \u001b[0;32mraise\u001b[0m \u001b[0mMessageError\u001b[0m\u001b[0;34m(\u001b[0m\u001b[0mreply\u001b[0m\u001b[0;34m[\u001b[0m\u001b[0;34m'error'\u001b[0m\u001b[0;34m]\u001b[0m\u001b[0;34m)\u001b[0m\u001b[0;34m\u001b[0m\u001b[0;34m\u001b[0m\u001b[0m\n\u001b[0m\u001b[1;32m    104\u001b[0m       \u001b[0;32mreturn\u001b[0m \u001b[0mreply\u001b[0m\u001b[0;34m.\u001b[0m\u001b[0mget\u001b[0m\u001b[0;34m(\u001b[0m\u001b[0;34m'data'\u001b[0m\u001b[0;34m,\u001b[0m \u001b[0;32mNone\u001b[0m\u001b[0;34m)\u001b[0m\u001b[0;34m\u001b[0m\u001b[0;34m\u001b[0m\u001b[0m\n\u001b[1;32m    105\u001b[0m \u001b[0;34m\u001b[0m\u001b[0m\n",
            "\u001b[0;31mMessageError\u001b[0m: Error: credential propagation was unsuccessful"
          ]
        }
      ]
    },
    {
      "cell_type": "code",
      "source": [
        "#최초 1회\n",
        "!apt install chromium-chromedriver\n",
        "!cp /usr/lib/chromium-browser/chromedriver '/content/drive/MyDrive/Colab Notebooks' #\n",
        "!pip install chromedriver-autoinstaller\n"
      ],
      "metadata": {
        "id": "uPWZH0U1nfPe"
      },
      "execution_count": null,
      "outputs": []
    },
    {
      "cell_type": "code",
      "source": [
        "https://velog.io/@kite_day/colab-%EC%97%90%EC%84%9C-%EC%9B%B9-%ED%81%AC%EB%A1%A4%EB%A7%81%ED%95%98%EA%B8%B0-selenium\n",
        "https://m.blog.naver.com/sinx2233/223223626622 # selenium 응답 확인 seleniumwire\n",
        "https://velog.io/@sangyeon217/selenium-webdriver-wait webdriverwait\n"
      ],
      "metadata": {
        "id": "yap-5-rP4KUj"
      },
      "execution_count": null,
      "outputs": []
    },
    {
      "cell_type": "code",
      "execution_count": 3,
      "metadata": {
        "id": "HOSt56xNlqm9"
      },
      "outputs": [],
      "source": [
        "from bs4 import BeautifulSoup, Tag\n",
        "import requests\n",
        "import re\n",
        "import random\n",
        "import sys\n",
        "import selenium\n",
        "import time\n",
        "from selenium.webdriver.common.by import By\n",
        "from selenium.webdriver.support.ui import WebDriverWait\n",
        "from selenium.webdriver.support import expected_conditions as EC\n",
        "from selenium.webdriver.common.keys import Keys\n",
        "from selenium import webdriver"
      ]
    },
    {
      "cell_type": "code",
      "source": [
        "chrome_path = \"/content/drive/MyDrive/Colab Notebooks/chromedriver\"\n",
        "sys.path.insert(0,chrome_path)\n",
        "chrome_options = webdriver.ChromeOptions()\n",
        "chrome_options.add_argument('--headless') # ensure GUI is off\n",
        "chrome_options.add_argument('--no-sandbox')\n",
        "chrome_options.add_argument('--disable-dev-shm-usage')  # set path to chromedriver as per your configuration\n",
        "chrome_options.add_argument('lang=ko_KR') # 한국어\n"
      ],
      "metadata": {
        "id": "cdQNQiORntHm"
      },
      "execution_count": 4,
      "outputs": []
    },
    {
      "cell_type": "code",
      "source": [
        "# 랜덤문서에 방문해서 그문서에 기여한 사람 집계\n",
        "# 다른 문서에 기여한 사람 집계 -> 모두 나라별\n",
        "# 그래서 나라별 기여도가 비슷할수록 비슷한 문서/연관성이 높다고 볼수 있지않을까?\n",
        "\n",
        "# 외부링크들을 모아서 Set에 넣고\n",
        "#위키 재밌는 문서 찾기\n",
        "# 랜덤문서 찾고 연관 문서가 다양한 것 ? 많은것?"
      ],
      "metadata": {
        "id": "3qYYpHVLvfgc"
      },
      "execution_count": null,
      "outputs": []
    },
    {
      "cell_type": "code",
      "source": [
        "def get_href_name(url) :\n",
        "  if url is not None :\n",
        "    if url.startswith(\"https://en.wikipedia.org/wiki/\") :\n",
        "      parts = url.split(\"/\")\n",
        "      wiki_index = parts.index(\"wiki\")\n",
        "      if \"Wikipedia\" not in parts[wiki_index+1] :\n",
        "        return parts[wiki_index+1]\n",
        "  else :\n",
        "    return None\n",
        "#cite도 없어야함, category 이것도 없어야함\n",
        "#나머지 중복링크는 직접 수작업으로 처리\n",
        "\"\"\"\n",
        "# 아래는 예시\n",
        "urls = [\n",
        "    \"https://en.wikipedia.org/wiki/Geographic_coordinate_system\",\n",
        "    \"https://en.wikipedia.org/wiki/New_South_Wales\",\n",
        "    \"https://en.wikipedia.org/wiki/Main_Page\",  # 정상적인 URL\n",
        "    \"https://en.wikipedia.org/\",  # wiki가 없는 경우\n",
        "    \"https://www.example.com/page1\", # 다른 URL\n",
        "    \"https://en.wikipedia.org/wiki/\",\n",
        "    \"https://en.wikipedia.org/wiki/Wollemi_National_Park\",\n",
        "    \"https://en.wikipedia.org/wiki/Wikipedia:Text_of_the_Creative_Commons_Attribution-ShareAlike_4.0_International_License\",\n",
        "    \"https://foundation.wikimedia.org/wiki/Special:MyLanguage/Policy:Universal_Code_of_Conduct\"\n",
        "\n",
        "]\n",
        "\n",
        "\n",
        "for url in urls :\n",
        "  print(get_href_name(url))\n",
        "\"\"\""
      ],
      "metadata": {
        "id": "dpQOPYiddw-1",
        "collapsed": true,
        "outputId": "a3a4833b-04c3-4155-c132-45b0e575aab9",
        "colab": {
          "base_uri": "https://localhost:8080/",
          "height": 127
        }
      },
      "execution_count": 5,
      "outputs": [
        {
          "output_type": "execute_result",
          "data": {
            "text/plain": [
              "'\\n# 아래는 예시\\nurls = [\\n    \"https://en.wikipedia.org/wiki/Geographic_coordinate_system\",\\n    \"https://en.wikipedia.org/wiki/New_South_Wales\",\\n    \"https://en.wikipedia.org/wiki/Main_Page\",  # 정상적인 URL\\n    \"https://en.wikipedia.org/\",  # wiki가 없는 경우\\n    \"https://www.example.com/page1\", # 다른 URL\\n    \"https://en.wikipedia.org/wiki/\",\\n    \"https://en.wikipedia.org/wiki/Wollemi_National_Park\",\\n    \"https://en.wikipedia.org/wiki/Wikipedia:Text_of_the_Creative_Commons_Attribution-ShareAlike_4.0_International_License\",\\n    \"https://foundation.wikimedia.org/wiki/Special:MyLanguage/Policy:Universal_Code_of_Conduct\"\\n\\n]\\n\\n\\nfor url in urls :\\n  print(get_href_name(url))\\n'"
            ],
            "application/vnd.google.colaboratory.intrinsic+json": {
              "type": "string"
            }
          },
          "metadata": {},
          "execution_count": 5
        }
      ]
    },
    {
      "cell_type": "code",
      "source": [
        "#wiki 에서 #cite_note와 Category: 는 제외\n",
        "\n",
        "not_include = ['Category:', '#cite_note', '#cite_ref', 'File:', '#bodyContent']"
      ],
      "metadata": {
        "id": "KJCtMkS3PbJH"
      },
      "execution_count": 28,
      "outputs": []
    },
    {
      "cell_type": "code",
      "source": [
        "basic_title = list({'Special:RecentChangesLinked', 'Special:MyContributions', 'Main_Page', 'Special:RecentChanges', 'Special:Search', 'Special:Random', 'Special:SpecialPages', 'Help:Category', 'Help:Introduction', 'Help:Contents', 'Special:WhatLinksHere', 'Special:MyTalk', 'Portal:Current_events'})\n",
        "basic_urls = ['https://en.wikipedia.org/wiki/Special:RecentChangesLinked', 'https://en.wikipedia.org/wiki/Special:MyContributions', 'https://en.wikipedia.org/wiki/Main_Page', 'https://en.wikipedia.org/wiki/Special:RecentChanges', 'https://en.wikipedia.org/wiki/Special:Search', 'https://en.wikipedia.org/wiki/Special:Random', 'https://en.wikipedia.org/wiki/Special:SpecialPages', 'https://en.wikipedia.org/wiki/Help:Category', 'https://en.wikipedia.org/wiki/Help:Introduction', 'https://en.wikipedia.org/wiki/Help:Contents', 'https://en.wikipedia.org/wiki/Special:WhatLinksHere', 'https://en.wikipedia.org/wiki/Special:MyTalk', 'https://en.wikipedia.org/wiki/Portal:Current_events']"
      ],
      "metadata": {
        "id": "MGKt-jzWFzIr"
      },
      "execution_count": 13,
      "outputs": []
    },
    {
      "cell_type": "code",
      "source": [
        "def get_href_set(driver) :\n",
        "  href_set = set()\n",
        "  #a_tag = driver.find_elements(By.TAG_NAME, 'a')\n",
        "  a_tag = driver.find_elements(By.XPATH, \"//a[not(@class='vector-toc-link' or @class='mw-file-description')]\")\n",
        "  title = get_title(driver)\n",
        "  for each in a_tag :\n",
        "    href_url = each.get_attribute('href')\n",
        "    href_value = get_href_name(href_url)\n",
        "    if href_value is not None and href_value not in basic_title and href_value is not title :\n",
        "        if not any(word in href_value for word in not_include) :\n",
        "          href_set.add(href_value)\n",
        "  return href_set\n",
        "\n",
        "# href 링크 모으기. class=new인건 수집x. /wiki/... 형식이여야함\n",
        "\n"
      ],
      "metadata": {
        "id": "WSOB5okIxmBh",
        "collapsed": true
      },
      "execution_count": 30,
      "outputs": []
    },
    {
      "cell_type": "code",
      "source": [
        "def random_wiki_page() :\n",
        "  url = \"https://en.wikipedia.org/wiki/Special:Random\"\n",
        "  driver = webdriver.Chrome(options = chrome_options)\n",
        "  driver.get(url)\n",
        "  html = driver.page_source\n",
        "  soup = BeautifulSoup(html, 'html.parser')\n",
        "  return driver"
      ],
      "metadata": {
        "id": "mjivM89ExmDj"
      },
      "execution_count": 8,
      "outputs": []
    },
    {
      "cell_type": "code",
      "source": [
        "def get_title(driver) :\n",
        "  return driver.find_element(By.ID, 'firstHeading').text\n"
      ],
      "metadata": {
        "id": "B3aLo_r0Mk8z"
      },
      "execution_count": 9,
      "outputs": []
    },
    {
      "cell_type": "code",
      "source": [
        "def how_many_href(driver) :\n",
        "  a_tag_set = get_href_set(driver)\n",
        "  return len(a_tag_set)\n",
        "  # a_tag 수를 알려면 h_set을 알아야하고, get_href_set을 여러번 돌려야한다는 것을 안다면, 매우 비효율적인 함수\n",
        "  # 자손을 알때는 유용한데 이미 주어진경우는 h_set을 저장해두는 것이 효율적일수도\n",
        "  # 전체 h_ref_list에 dict 원소로, key:문서제목, value:href_set으로 저장\n",
        "  # 아예 class로 문서, href_set을 저장할수있지 않을까?, 메서드는 한문서에서 다른문서로 넘어가는거로"
      ],
      "metadata": {
        "id": "5omSBR2JD5t3"
      },
      "execution_count": 26,
      "outputs": []
    },
    {
      "cell_type": "code",
      "source": [
        "def make_href_url(href_value) :\n",
        "  return \"https://en.wikipedia.org/wiki/\"+href_value"
      ],
      "metadata": {
        "id": "6As7R5-3I1Qg"
      },
      "execution_count": 16,
      "outputs": []
    },
    {
      "cell_type": "code",
      "source": [
        "# key로 href_set에서 key:링크 이름, value : how_many_href(url) 로 해보기\n",
        "#   get_title로 아예 key 이름을 해버리기?"
      ],
      "metadata": {
        "id": "G72eyT3aHJ0l"
      },
      "execution_count": 17,
      "outputs": []
    },
    {
      "cell_type": "code",
      "source": [
        "driver = random_wiki_page()\n",
        "\n",
        "start_href = get_title(driver)\n",
        "\n",
        "h_set = get_href_set(driver)\n",
        "h_dict = dict()\n",
        "\n",
        "h_dict[start_href] = how_many_href(driver)\n",
        "\n",
        "for each in h_set :\n",
        "  driver.get(make_href_url(each))\n",
        "  h_dict[each] = how_many_href(driver)\n",
        "\n",
        "print(h_dict)"
      ],
      "metadata": {
        "colab": {
          "base_uri": "https://localhost:8080/"
        },
        "id": "zIOjKWOsD5ri",
        "outputId": "2b4d99c3-d3c6-44af-80bc-9548a994cb76"
      },
      "execution_count": 31,
      "outputs": [
        {
          "output_type": "stream",
          "name": "stdout",
          "text": [
            "{'Karimabad, Andika': 337, 'Sefiddara': 334, 'Sar_Bazar': 335, 'Chegarman': 335, 'Sar_Murd-e_Isi': 332, 'Talkhab-e_Khun_Ali': 332, 'Tina,_Iran': 334, 'Chal-e_Balutak': 333, 'Bahramabad,_Abezhdan': 334, 'Qaleh_Lut': 335, 'Hasan_Ali_Darreh_Forkh': 332, 'Alma-ye_Sofla': 334, 'Pa_Ab-e_Shelal': 426, 'Chuzu': 334, 'UTC%2B3:30': 95, 'Kamarsheh_Seyyedi_Dallah': 333, 'Gerdab,_Khuzestan': 337, 'Tachel_Ali_Shir': 332, 'Rural_Districts_of_Iran': 302, 'Gurab,_Andika': 335, 'Andikayi': 333, 'Murgeh': 333, 'Sarchenar,_Khuzestan': 334, 'Rafiabad,_Khuzestan': 336, 'Template:Andika_County': 317, 'Gholam_Hoseyn-e_Hafezi': 334, 'Sar_Gach,_Andika': 335, 'Boneh-ye_Musa': 332, 'Ab_Chendar,_Abezhdan': 334, 'Alidad,_Khuzestan': 332, 'Hamisheh_Behar': 332, 'Ab_Kabud-e_Sofla': 333, 'Adiv_Chaliv': 333, 'Muri,_Khuzestan': 334, 'Seyyed_Rajab': 333, 'Taherabad,_Andika': 425, 'Ahmadabad-e_Dinarak': 336, 'Sukhteh': 334, 'Harbazchellow': 334, 'Chezi-ye_Olya': 334, 'Emamzadeh_Shahzadeh_Abdollah': 338, 'Template_talk:Andika-geo-stub': 10, 'Zangel_Ab-e_Deli': 334, 'Medad,_Iran': 331, 'Shalal_and_Dasht-e_Gol_Rural_District': 423, 'Napiabad': 333, 'Kushk_Rural_District_(Khuzestan_Province)': 427, 'Savarabad,_Khuzestan': 336, 'Boneh-ye_Shir_Mohammad': 333, 'Bar_Aftab-e_Heydarqoli': 334, 'Ab-e_Mozhgan': 333, 'Saleh_Ebrahim': 334, 'Darb-e_Shesh_Ab': 334, 'Kardef': 334, 'Kushk-e_Aqa_Jan': 335, 'Cheshmeh_Chelvar': 334, 'Bar_Aftab-e_Akbar': 333, 'Owlad': 336, 'Avazabad,_Andika': 332, 'Galalak,_Andika': 334, 'Shahu-ye_Garatin': 334, 'Zarrestan': 334, 'Shir_Ali,_Andika': 332, 'Dameh': 331, 'Darreh-ye_Qila_Tahemasbi': 333, 'Lirik': 334, 'Ahmadabad,_Abezhdan': 337, 'Chal-e_Anjireh': 333, 'Mazer_Ab_Anari': 332, 'Algi,_Iran': 336, 'Hasanabad,_Andika': 335, 'Latia,_Iran': 335, 'Amir_ol_Mowmenin,_Andika': 335, 'Takht-e_Meshkun': 332, 'Aram,_Iran': 333, 'Ragbi': 334, 'Ab_Darreh,_Khuzestan': 334, 'Shahrak-e_Benat_ol_Hoda': 335, 'Special:EditPage': 1, 'Kushk,_Khuzestan': 427, 'Galleh_Dasht_Lir': 332, 'Posht_Chagah_Taraz': 332, 'Farzad_va_Kahzad': 332, 'Karimabad_(disambiguation)': 109, 'Gorgeh': 334, 'Sar_Tang,_Andika': 335, 'Qaleh-ye_Khvajeh_Rural_District': 424, 'Baqerabad,_Khuzestan': 335, 'Karimabad,_Andika#': 335, 'Persian_language': 711, 'Karimabad,_Andika?action=edit': 84, 'Emamzadeh_Baba_Ahmad': 334, 'Sarnistan': 333, 'Rezachal_Kenar': 332, 'Taqa,_Iran': 336, 'Soleyman,_Khuzestan': 334, 'Kalbali_Arab': 335, 'Hoseyn_Qoli,_Khuzestan': 334, 'Dikdan': 333, 'Gav_Sukhteh': 334, 'Qaziabad,_Andika': 332, 'Zowalfali': 332, 'Shakraleh': 332, 'Ab_Razak': 333, 'Ab_Chendar,_Chelo': 333, 'Darreh-ye_Pir,_Andika': 332, 'Romanize': 346, 'Abezhdan_Rural_District': 426, 'Chal-e_Sangha': 333, 'Rahimabad,_Khuzestan': 335, 'Kat_Kiyars': 332, 'Takht-e_Malek,_Khuzestan': 335, 'Sar_Tang-e_Gadarkhani': 334, 'Abezhdan,_Andika': 427, 'Administrative_divisions_of_Iran': 71, 'Capital_city': 905, 'Pacheh_Kuh_Zilay_Idi': 332, 'Statistical_Center_of_Iran': 18, 'Mohanna,_Andika': 332, 'Kham_Karabad-e_Galleh_Tavak': 335, 'Hoseynabad_(32%C2%B010%E2%80%B2_N_49%C2%B021%E2%80%B2_E),_Andika': 335, 'Bakhsh': 365, 'List_of_countries': 860, 'Talpa,_Iran': 334, 'Shahrak-e_Meysam': 332, 'Mohammadabad,_Andika': 336, 'Bavrameh': 333, 'Nabi_Allah': 333, 'Hajjati': 333, 'Shukol': 335, 'Varkuh': 335, 'Gol_Sefid,_Andika': 334, 'Talambrun_Ali_Shir': 332, 'Boneh-ye_Mohammad_Ali': 332, 'Abdolreza,_Andika': 335, 'Darreh-ye_Chinayi': 332, 'Abdahabad': 334, 'Eslamabad,_Andika': 334, 'Ab_Bid-e_Galleh_Tavak': 334, 'Ab_Chahru': 334, 'Khimeh_Ja': 334, 'Pay_Takht-e_Zal': 332, 'Gazegah': 333, 'Keftegalleh': 332, 'Chegarman-e_Gholamhoseyn': 334, 'Bapir-e_Jafar_Qoli': 334, 'Gol_Aspidi': 333, 'Ab_Qaleh,_Khuzestan': 334, 'Qaleh-ye_Khvajeh': 425, 'Deh_Gah,_Andika': 335, 'Parivach_Zabandi_Kayi': 422, 'Chal-e_Monar': 334, 'Chahar_Qash,_Andika': 334, 'Chal-e_Direh_Bozorg': 332, 'Shahrak-e_Yaser': 428, 'Sabzlikeh_Savarali': 332, 'Gohar,_Iran': 333, 'Takht-e_Giveh_Deran': 332, 'Naser_Khosrow,_Iran': 427, 'Abezhdan-e_Malmulil': 334, 'Shahrak-e_Taleqani,_Andika': 335, 'Repi,_Iran': 333, 'Sarahuni_Seyyed_Mohammad_Qoli': 332, 'Zila-ye_Aliasgar': 333, 'Ahmadabad,_Andika': 336, 'Kandgah': 334, 'Bahmanabad,_Andika': 334, 'Geographic_coordinate_system': 294, 'Boneh-ye_Baba_Zahed': 335, 'Gol_Sefid,_Chelo': 334, 'Herbow': 331, 'Aqatla': 332, 'Talk:Karimabad,_Andika': 10, 'Counties_of_Iran': 1419, 'Zeytunabad': 334, 'Turak,_Iran': 334, 'Qaleh-ye_Zaras': 335, 'Ab_Khar_Zahreh,_Andika': 336, 'Chelo_District': 426, 'Eleyas': 335, 'Jafarabad,_Andika': 429, 'Sheykh_Ahmad,_Khuzestan': 334, 'Shokareh': 331, 'Provinces_of_Iran': 553, 'Ali_Asghar_Kutki': 332, 'Chelo_Rural_District': 426, 'Abezhdan_District': 426, 'Taqha-ye_Jafar_Qoli': 335, 'Darmeleh': 331, 'Bazkabad,_Khuzestan': 334, 'Hajjiabad,_Andika': 334, 'Lalar_and_Katak_Rural_District': 423, 'Ahmadabad-e_Sar_Tang': 335, 'Sarpar_Abejdan': 335, 'Zeyrcheshmeh-ye_Ab_Anari': 332, 'Ali_Pir_Vali_Muman': 336, 'Tang_Shah,_Khuzestan': 334, 'Kham_Kar': 333, 'Pol-e_Negin': 334, 'Gholamreza,_Khuzestan': 334, 'Farhadabad,_Khuzestan': 335, 'Chal-e_Kuchek_Latif_Allah': 332, 'Begesi': 334, 'Karimabad,_Andika': 336, 'Poli,_Andika': 333, 'Mafgeh': 334, 'Andika_County': 428, 'GEOnet_Names_Server': 10, 'Darreh_Qaleh': 336, 'Portal:Iran': 1326, 'Vargeh_Sabztazeh': 333, 'Darreh-ye_Arabha': 335, 'Iran': 1649, 'Kul_Murd': 332, 'Darreh_Dun,_Andika': 333, 'Abrizaki,_Andika': 334, 'Seresht': 335, 'Template:Andika-geo-stub': 12, 'Sadd-e_Karun_Chahar': 333, 'Kanegrun': 332, 'Bard_Tahdeh_Seyyed_Khosrow': 332, 'Dimu,_Khuzestan': 334, 'Ab_Kulak': 334, 'Ali_Nazer,_Khuzestan': 332, 'Ab_Bid,_Andika': 335, 'Boneh-ye_Zolfaqar': 333, 'Sar_Howz-e_Pain': 334, 'Hajji_Aqa': 333, 'Chol_Chol_Chal': 333, 'Yek_Borji,_Khuzestan': 427, 'Allah_Rahim': 332, 'Karim_Musa': 334, 'Daylight_saving_time': 425, 'Mashgiri': 334, 'Safi_Khun': 334, 'Bustanak': 334, 'Pay-e_Rah': 333, 'Kushkak-e_Kushk': 424, 'Boneh-ye_Majid': 334, 'Fathabad,_Andika': 336, 'Mandeniabad': 335, 'Ab_Koreh': 334, 'Gholamali,_Khuzestan': 335, 'Deh-e_Dik': 332, 'Sar_Huni': 334, 'Lakabad': 334, 'Central_District_(Andika_County)': 422, 'Karkaran': 333, 'Qaleh_Sangar': 335, 'Kartaz': 334, 'Pay_Rah-e_Chal_Balutak': 334, 'Kolesheh': 332, 'Sadeqabad-e_Sagbu': 335, 'Talkhab-e_Nazer': 334, 'Rostamabad,_Andika': 334, 'Tang_Deh-ye_Shalal': 334, 'Kuh_Borideh_Shelal': 335, 'Fergeh': 333, 'Zabut': 427, 'Ali_Yar,_Khuzestan': 334, 'Shirin_Ab,_Andika': 335, 'Kuri,_Khuzestan': 334, 'Iran_Standard_Time': 103, 'Iran_Daylight_Time': 102, 'Dulgan': 336, 'Talkhab-e_Hamzeh_Ali': 334, 'Template_talk:Andika_County': 10, 'Time_zone': 989, 'Pir_Mahmud': 334, 'Shahrak-e_Emam_Hoseyn,_Khuzestan': 334, 'Tang_Julan': 333, 'Fathi,_Iran': 332, 'Qaleh_Barun': 334, 'Gurab_Dagchi': 332, 'Zolfaqar': 334, 'Boneh-ye_Bandar': 332, 'Boneh-ye_Fathali': 333, 'Shahrak-e_Mohammad_Reza_Asadpur': 422, 'Sar_Howz-e_Bala': 334, 'Mandeh_Ab': 333, 'Shukol-e_Sahan_Ali': 332, 'Aliabad,_Andika': 335, 'Bar_Aftab-e_Chel_Khorasan': 334, 'Molla_Vali,_Khuzestan': 332, 'Bapira': 333, 'Dashti-ye_Hoseyn_Aqa': 332, 'Tang_Gonda': 333, 'Ali_Panah': 334, 'Sarteliha': 335, 'Takht-e_Kabud': 335, 'Qaleh_Bardi,_Khuzestan': 335, 'Gelalak_(32%C2%B023%E2%80%B2_N_49%C2%B043%E2%80%B2_E),_Andika': 334, 'Khuzestan_Province': 611, 'Sar_Tang,_Chelo': 333, 'Ab_Qanat': 335, 'Sardarabad,_Andika': 335, 'Tang-e_Sanan': 333, 'Kabak_Mohammad_Reza': 333, 'Darreh-ye_Gandoli': 333, 'Kul_Sorkh,_Khuzestan': 333, 'Do_Balutan,_Andika': 334, 'Bahramabad,_Andika': 334, 'Payrah_Chal-e_Monar': 332, 'Cheshmeh_Haqqi': 334, 'Lalar': 423, 'Feyzollah': 334, 'Khosrow,_Andika': 331, 'Saleh_Kutah': 335, 'Qasemabad,_Andika': 336, 'Katak,_Khuzestan': 425, 'Darreh_Dozdan,_Khuzestan': 333, 'Sar_Kandeh-ye_Pain': 334, 'Murd,_Andika': 336, 'Tanag_Lai': 334, 'Sarchul,_Andika': 332, 'Baba_Zahed,_Andika': 334, 'Ferdowsabad': 334, 'Emamzadeh_Bowyer': 334, 'Gelalak_(32%C2%B021%E2%80%B2_N_49%C2%B047%E2%80%B2_E),_Andika': 335, 'UTC%2B4:30': 120, 'Ab_Zehlu,_Andika': 335, 'Tavileh,_Andika': 333, 'Bazargarah_Molla_Aqa': 333, 'Deh_Gharati': 333, 'Darb': 335, 'Dulijan': 334, 'Mortezaabad,_Khuzestan': 332, 'Bard_Zard,_Andika': 331, 'Mahmudabad-e_Gomar': 333, 'Halkun': 334, 'Abgarmak,_Andika': 333, 'Qarieh_Nasir': 332, 'Jafar_Qoli': 332, 'Esfandiar,_Khuzestan': 332, 'Heydarabad,_Andika': 334, 'Mazarandeh': 334, 'Estak': 335, 'Sharifabad,_Andika': 334}\n"
          ]
        }
      ]
    },
    {
      "cell_type": "code",
      "source": [
        "def get_rNode_info :\n",
        "  driver = random_wiki_page()\n",
        "\n",
        "  start_href = get_title(driver)\n",
        "\n",
        "\n",
        "  h_set = get_href_set(driver)\n",
        "  h_dict = dict()\n",
        "\n",
        "  h_dict[start_href] = how_many_href(driver)\n",
        "\n",
        "  for each in h_set :\n",
        "    driver.get(make_href_url(each))\n",
        "    h_dict[each] = how_many_href(driver)\n",
        "\n",
        "  print(h_dict)"
      ],
      "metadata": {
        "id": "byWLLlioHJ3b"
      },
      "execution_count": null,
      "outputs": []
    },
    {
      "cell_type": "code",
      "source": [
        "  # 아예 class로 그래프 형태로 저장하여 문서, href_set을 저장할수있지 않을까?, 메서드는 한문서에서 다른문서로 넘어가는거로 <- 너무 범위가 커지는듯\n",
        "  #차라리 문서 하나를 객체로 해서 href_set과 title을 관리?\n",
        "  # get_url을 할때마다 class에 접근해서 해당 객체가 존재하는 경우 그대로 가져다씀\n",
        "  # 위키 추천시스템? <- 최종계획 ( 문서의 양, 링크의수, 연결된 링크들의 링크 수)\n",
        "\n",
        "class Node :\n",
        "    def __init__(self, title, href_set) :\n",
        "      self.title = title\n",
        "      self.href_set = href_set\n",
        "  #만약 해당하는 이름의 title을 가진 객체가 있을경우 href_set을 return\n",
        "    def get_href_set(self) :\n",
        "      return self.href_set\n",
        "    def get_title(self) :\n",
        "      return self.title\n"
      ],
      "metadata": {
        "id": "Vxi1D7pjD5wX"
      },
      "execution_count": 39,
      "outputs": []
    },
    {
      "cell_type": "code",
      "source": [],
      "metadata": {
        "id": "Le2obgTUD5zm"
      },
      "execution_count": null,
      "outputs": []
    }
  ]
}