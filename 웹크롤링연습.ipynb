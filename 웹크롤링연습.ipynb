{
  "nbformat": 4,
  "nbformat_minor": 0,
  "metadata": {
    "colab": {
      "provenance": [],
      "authorship_tag": "ABX9TyOykuYCCrvqn7qQH0srFum1",
      "include_colab_link": true
    },
    "kernelspec": {
      "name": "python3",
      "display_name": "Python 3"
    },
    "language_info": {
      "name": "python"
    }
  },
  "cells": [
    {
      "cell_type": "markdown",
      "metadata": {
        "id": "view-in-github",
        "colab_type": "text"
      },
      "source": [
        "<a href=\"https://colab.research.google.com/github/ggongch2/web-scarping/blob/main/%EC%9B%B9%ED%81%AC%EB%A1%A4%EB%A7%81%EC%97%B0%EC%8A%B5.ipynb\" target=\"_parent\"><img src=\"https://colab.research.google.com/assets/colab-badge.svg\" alt=\"Open In Colab\"/></a>"
      ]
    },
    {
      "cell_type": "code",
      "source": [
        "pip install selenium"
      ],
      "metadata": {
        "id": "tWhEOp94m-or",
        "colab": {
          "base_uri": "https://localhost:8080/"
        },
        "outputId": "4410a39a-e8e6-44b1-ba8c-a88ed43a4b04"
      },
      "execution_count": 1,
      "outputs": [
        {
          "output_type": "stream",
          "name": "stdout",
          "text": [
            "Collecting selenium\n",
            "  Downloading selenium-4.27.1-py3-none-any.whl.metadata (7.1 kB)\n",
            "Requirement already satisfied: urllib3<3,>=1.26 in /usr/local/lib/python3.10/dist-packages (from urllib3[socks]<3,>=1.26->selenium) (2.3.0)\n",
            "Collecting trio~=0.17 (from selenium)\n",
            "  Downloading trio-0.28.0-py3-none-any.whl.metadata (8.5 kB)\n",
            "Collecting trio-websocket~=0.9 (from selenium)\n",
            "  Downloading trio_websocket-0.11.1-py3-none-any.whl.metadata (4.7 kB)\n",
            "Requirement already satisfied: certifi>=2021.10.8 in /usr/local/lib/python3.10/dist-packages (from selenium) (2024.12.14)\n",
            "Requirement already satisfied: typing_extensions~=4.9 in /usr/local/lib/python3.10/dist-packages (from selenium) (4.12.2)\n",
            "Requirement already satisfied: websocket-client~=1.8 in /usr/local/lib/python3.10/dist-packages (from selenium) (1.8.0)\n",
            "Requirement already satisfied: attrs>=23.2.0 in /usr/local/lib/python3.10/dist-packages (from trio~=0.17->selenium) (24.3.0)\n",
            "Collecting sortedcontainers (from trio~=0.17->selenium)\n",
            "  Downloading sortedcontainers-2.4.0-py2.py3-none-any.whl.metadata (10 kB)\n",
            "Requirement already satisfied: idna in /usr/local/lib/python3.10/dist-packages (from trio~=0.17->selenium) (3.10)\n",
            "Collecting outcome (from trio~=0.17->selenium)\n",
            "  Downloading outcome-1.3.0.post0-py2.py3-none-any.whl.metadata (2.6 kB)\n",
            "Requirement already satisfied: sniffio>=1.3.0 in /usr/local/lib/python3.10/dist-packages (from trio~=0.17->selenium) (1.3.1)\n",
            "Requirement already satisfied: exceptiongroup in /usr/local/lib/python3.10/dist-packages (from trio~=0.17->selenium) (1.2.2)\n",
            "Collecting wsproto>=0.14 (from trio-websocket~=0.9->selenium)\n",
            "  Downloading wsproto-1.2.0-py3-none-any.whl.metadata (5.6 kB)\n",
            "Requirement already satisfied: pysocks!=1.5.7,<2.0,>=1.5.6 in /usr/local/lib/python3.10/dist-packages (from urllib3[socks]<3,>=1.26->selenium) (1.7.1)\n",
            "Requirement already satisfied: h11<1,>=0.9.0 in /usr/local/lib/python3.10/dist-packages (from wsproto>=0.14->trio-websocket~=0.9->selenium) (0.14.0)\n",
            "Downloading selenium-4.27.1-py3-none-any.whl (9.7 MB)\n",
            "\u001b[2K   \u001b[90m━━━━━━━━━━━━━━━━━━━━━━━━━━━━━━━━━━━━━━━━\u001b[0m \u001b[32m9.7/9.7 MB\u001b[0m \u001b[31m23.3 MB/s\u001b[0m eta \u001b[36m0:00:00\u001b[0m\n",
            "\u001b[?25hDownloading trio-0.28.0-py3-none-any.whl (486 kB)\n",
            "\u001b[2K   \u001b[90m━━━━━━━━━━━━━━━━━━━━━━━━━━━━━━━━━━━━━━━━\u001b[0m \u001b[32m486.3/486.3 kB\u001b[0m \u001b[31m9.4 MB/s\u001b[0m eta \u001b[36m0:00:00\u001b[0m\n",
            "\u001b[?25hDownloading trio_websocket-0.11.1-py3-none-any.whl (17 kB)\n",
            "Downloading wsproto-1.2.0-py3-none-any.whl (24 kB)\n",
            "Downloading outcome-1.3.0.post0-py2.py3-none-any.whl (10 kB)\n",
            "Downloading sortedcontainers-2.4.0-py2.py3-none-any.whl (29 kB)\n",
            "Installing collected packages: sortedcontainers, wsproto, outcome, trio, trio-websocket, selenium\n",
            "Successfully installed outcome-1.3.0.post0 selenium-4.27.1 sortedcontainers-2.4.0 trio-0.28.0 trio-websocket-0.11.1 wsproto-1.2.0\n"
          ]
        }
      ]
    },
    {
      "cell_type": "code",
      "source": [
        "from google.colab import drive\n",
        "drive.mount('/content/drive')"
      ],
      "metadata": {
        "colab": {
          "base_uri": "https://localhost:8080/"
        },
        "id": "WuNG4Z8ynECC",
        "outputId": "897542c6-f846-48d1-d609-3bc5064c32e7"
      },
      "execution_count": null,
      "outputs": [
        {
          "output_type": "stream",
          "name": "stdout",
          "text": [
            "Mounted at /content/drive\n"
          ]
        }
      ]
    },
    {
      "cell_type": "code",
      "source": [
        "#최초 1회\n",
        "!apt install chromium-chromedriver\n",
        "!cp /usr/lib/chromium-browser/chromedriver '/content/drive/MyDrive/Colab Notebooks' #\n",
        "!pip install chromedriver-autoinstaller\n"
      ],
      "metadata": {
        "id": "uPWZH0U1nfPe"
      },
      "execution_count": null,
      "outputs": []
    },
    {
      "cell_type": "code",
      "source": [
        "https://velog.io/@kite_day/colab-%EC%97%90%EC%84%9C-%EC%9B%B9-%ED%81%AC%EB%A1%A4%EB%A7%81%ED%95%98%EA%B8%B0-selenium\n",
        "https://m.blog.naver.com/sinx2233/223223626622 # selenium 응답 확인 seleniumwire\n",
        "https://velog.io/@sangyeon217/selenium-webdriver-wait webdriverwait\n"
      ],
      "metadata": {
        "id": "yap-5-rP4KUj"
      },
      "execution_count": null,
      "outputs": []
    },
    {
      "cell_type": "code",
      "execution_count": 2,
      "metadata": {
        "id": "HOSt56xNlqm9"
      },
      "outputs": [],
      "source": [
        "from bs4 import BeautifulSoup, Tag\n",
        "import requests\n",
        "import re\n",
        "import random\n",
        "import sys\n",
        "import selenium\n",
        "import time\n",
        "from selenium.webdriver.common.by import By\n",
        "from selenium.webdriver.support.ui import WebDriverWait\n",
        "from selenium.webdriver.support import expected_conditions as EC\n",
        "from selenium.webdriver.common.keys import Keys\n",
        "from selenium import webdriver"
      ]
    },
    {
      "cell_type": "code",
      "source": [
        "chrome_path = \"/content/drive/MyDrive/Colab Notebooks/chromedriver\"\n",
        "sys.path.insert(0,chrome_path)\n",
        "chrome_options = webdriver.ChromeOptions()\n",
        "chrome_options.add_argument('--headless') # ensure GUI is off\n",
        "chrome_options.add_argument('--no-sandbox')\n",
        "chrome_options.add_argument('--disable-dev-shm-usage')  # set path to chromedriver as per your configuration\n",
        "chrome_options.add_argument('lang=ko_KR') # 한국어\n"
      ],
      "metadata": {
        "id": "cdQNQiORntHm"
      },
      "execution_count": 3,
      "outputs": []
    },
    {
      "cell_type": "code",
      "source": [
        "# 랜덤문서에 방문해서 그문서에 기여한 사람 집계\n",
        "# 다른 문서에 기여한 사람 집계 -> 모두 나라별\n",
        "# 그래서 나라별 기여도가 비슷할수록 비슷한 문서/연관성이 높다고 볼수 있지않을까?\n",
        "\n",
        "# 외부링크들을 모아서 Set에 넣고\n",
        "#위키 재밌는 문서 찾기\n",
        "# 랜덤문서 찾고 연관 문서가 다양한 것 ? 많은것?"
      ],
      "metadata": {
        "id": "3qYYpHVLvfgc"
      },
      "execution_count": null,
      "outputs": []
    },
    {
      "cell_type": "code",
      "source": [
        "def get_href_name(url) :\n",
        "  if url is not None :\n",
        "    if url.startswith(\"https://en.wikipedia.org/wiki/\") :\n",
        "      parts = url.split(\"/\")\n",
        "      wiki_index = parts.index(\"wiki\")\n",
        "      if \"Wikipedia\" not in parts[wiki_index+1] :\n",
        "        return parts[wiki_index+1]\n",
        "  else :\n",
        "    return None\n",
        "#cite도 없어야함, category 이것도 없어야함\n",
        "#나머지 중복링크는 직접 수작업으로 처리\n",
        "\n",
        "\"\"\"\n",
        "# 아래는 예시\n",
        "urls = [\n",
        "    \"https://en.wikipedia.org/wiki/Geographic_coordinate_system\",\n",
        "    \"https://en.wikipedia.org/wiki/New_South_Wales\",\n",
        "    \"https://en.wikipedia.org/wiki/Main_Page\",  # 정상적인 URL\n",
        "    \"https://en.wikipedia.org/\",  # wiki가 없는 경우\n",
        "    \"https://www.example.com/page1\", # 다른 URL\n",
        "    \"https://en.wikipedia.org/wiki/\",\n",
        "    \"https://en.wikipedia.org/wiki/Wollemi_National_Park\",\n",
        "    \"https://en.wikipedia.org/wiki/Wikipedia:Text_of_the_Creative_Commons_Attribution-ShareAlike_4.0_International_License\",\n",
        "    \"https://foundation.wikimedia.org/wiki/Special:MyLanguage/Policy:Universal_Code_of_Conduct\"\n",
        "\n",
        "]\n",
        "\n",
        "\n",
        "for url in urls :\n",
        "  print(get_href_name(url))\n",
        "\"\"\""
      ],
      "metadata": {
        "id": "dpQOPYiddw-1",
        "collapsed": true
      },
      "execution_count": null,
      "outputs": []
    },
    {
      "cell_type": "code",
      "source": [
        "def get_href_set(driver) :\n",
        "  href_set = set()\n",
        "  a_tag = driver.find_elements(By.TAG_NAME, 'a')\n",
        "  for each in a_tag :\n",
        "    href_url = each.get_attribute('href')\n",
        "    href_value = get_href_name(href_url)\n",
        "    if href_value is not None and href_value not in basic_title :\n",
        "      href_set.add(href_value)\n",
        "  return href_set\n",
        "\n",
        "# href 링크 모으기. class=new인건 수집x. /wiki/... 형식이여야함"
      ],
      "metadata": {
        "id": "WSOB5okIxmBh",
        "collapsed": true
      },
      "execution_count": 56,
      "outputs": []
    },
    {
      "cell_type": "code",
      "source": [
        "def random_wiki_page() :\n",
        "  url = \"https://en.wikipedia.org/wiki/Special:Random\"\n",
        "  driver = webdriver.Chrome(options = chrome_options)\n",
        "  driver.get(url)\n",
        "  html = driver.page_source\n",
        "  soup = BeautifulSoup(html, 'html.parser')\n",
        "  return driver"
      ],
      "metadata": {
        "id": "mjivM89ExmDj"
      },
      "execution_count": 20,
      "outputs": []
    },
    {
      "cell_type": "code",
      "source": [
        "def get_title(driver) :\n",
        "  return driver.find_element(By.ID, 'firstHeading').text\n"
      ],
      "metadata": {
        "id": "B3aLo_r0Mk8z"
      },
      "execution_count": 63,
      "outputs": []
    },
    {
      "cell_type": "code",
      "source": [
        "basic_title = list({'Special:RecentChangesLinked', 'Special:MyContributions', 'Main_Page', 'Special:RecentChanges', 'Special:Search', 'Special:Random', 'Special:SpecialPages', 'Help:Category', 'Help:Introduction', 'Help:Contents', 'Special:WhatLinksHere', 'Special:MyTalk', 'Portal:Current_events'})\n",
        "basic_urls = ['https://en.wikipedia.org/wiki/Special:RecentChangesLinked', 'https://en.wikipedia.org/wiki/Special:MyContributions', 'https://en.wikipedia.org/wiki/Main_Page', 'https://en.wikipedia.org/wiki/Special:RecentChanges', 'https://en.wikipedia.org/wiki/Special:Search', 'https://en.wikipedia.org/wiki/Special:Random', 'https://en.wikipedia.org/wiki/Special:SpecialPages', 'https://en.wikipedia.org/wiki/Help:Category', 'https://en.wikipedia.org/wiki/Help:Introduction', 'https://en.wikipedia.org/wiki/Help:Contents', 'https://en.wikipedia.org/wiki/Special:WhatLinksHere', 'https://en.wikipedia.org/wiki/Special:MyTalk', 'https://en.wikipedia.org/wiki/Portal:Current_events']"
      ],
      "metadata": {
        "id": "MGKt-jzWFzIr"
      },
      "execution_count": 60,
      "outputs": []
    },
    {
      "cell_type": "code",
      "source": [
        "def how_many_href(driver) :\n",
        "  a_tag = driver.find_elements(By.TAG_NAME, 'a')\n",
        "  return len(a_tag)"
      ],
      "metadata": {
        "id": "5omSBR2JD5t3"
      },
      "execution_count": 58,
      "outputs": []
    },
    {
      "cell_type": "code",
      "source": [
        "def make_href_url(href_value) :\n",
        "  return \"https://en.wikipedia.org/wiki/\"+href_value"
      ],
      "metadata": {
        "id": "6As7R5-3I1Qg"
      },
      "execution_count": 59,
      "outputs": []
    },
    {
      "cell_type": "code",
      "source": [
        "# key로 href_set에서 key:링크 이름, value : how_many_href(url) 로 해보기\n",
        "#   get_title로 아예 key 이름을 해버리기?"
      ],
      "metadata": {
        "id": "G72eyT3aHJ0l"
      },
      "execution_count": null,
      "outputs": []
    },
    {
      "cell_type": "code",
      "source": [
        "driver = random_wiki_page()\n",
        "\n",
        "start_href = get_title(driver)\n",
        "\n",
        "h_set = get_href_set(driver)\n",
        "h_dict = dict()\n",
        "\n",
        "h_dict[start_href] = how_many_href(driver)\n",
        "\n",
        "for each in h_set :\n",
        "  driver.get(make_href_url(each))\n",
        "  h_dict[each] = how_many_href(driver)\n",
        "\n",
        "print(h_dict)"
      ],
      "metadata": {
        "colab": {
          "base_uri": "https://localhost:8080/"
        },
        "id": "zIOjKWOsD5ri",
        "outputId": "fb02d7a2-fdc1-4248-bc0b-2d10efb9fbed"
      },
      "execution_count": 64,
      "outputs": [
        {
          "output_type": "stream",
          "name": "stdout",
          "text": [
            "{'Colima Democratic Association': 198, 'Colima_Democratic_Association#cite_ref-3': 198, 'Centrism': 1097, 'Constitution_of_Mexico': 1113, 'File:Coat_of_arms_of_Mexico.svg': 359, 'Category:Short_description_is_different_from_Wikidata': 474, 'Federal_government_of_Mexico': 473, 'Green': 1863, 'President_of_Mexico': 827, 'Special:EditPage': 40, 'Colima_Democratic_Association#cite_note-1': 197, 'Category:Articles_containing_Spanish-language_text': 490, 'Colima_Democratic_Association#cite_ref-1': 197, 'Spanish_language': 3560, 'Law_of_Mexico': 549, 'Lists_of_Mexican_state_governors': 109, 'Instituto_Nacional_Electoral': 476, 'Outline_of_political_science#Politics_by_region': 2293, 'Gustavo_V%C3%A1zquez_Montes': 156, 'List_of_neighborhoods_in_Mexico_City': 1128, 'Template:Mexico-party-stub': 102, 'Sergio_Guti%C3%A9rrez_Luna': 206, 'Colima_Democratic_Association#References': 194, 'Marcelo_Ebrard': 703, 'List_of_diplomatic_missions_of_Mexico': 1529, 'Category:Articles_with_short_description': 494, 'Municipalities_of_Mexico': 561, 'Administrative_divisions_of_Mexico': 858, 'Category:Mexican_politics_stubs': 127, 'Colima_Democratic_Association': 194, 'List_of_heads_of_state_of_Mexico': 1358, 'Minister_of_Foreign_Affairs_(Mexico)': 172, 'National_Action_Party_(Mexico)': 1124, 'Category:Politics_of_Colima': 76, 'Party_of_the_Democratic_Revolution': 986, '2021_Mexican_gubernatorial_elections': 1313, 'Colima_Democratic_Association#Dissolution': 194, 'Mexican_nationality_law': 752, '2009_Mexican_legislative_election': 350, 'List_of_mayors_of_Mexico_City': 777, 'Federal_Electoral_Tribunal': 244, '2003_Mexican_legislative_election': 359, 'LGBTQ_rights_in_Mexico': 2442, '2015_Mexican_legislative_election': 465, 'File:Vote_icon.svg': 233, 'Ecologist_Green_Party_of_Mexico': 678, 'Judiciary_of_Mexico': 256, '2012_Mexican_general_election': 927, 'Mexico_City': 3274, 'Visa_requirements_for_Mexican_citizens': 2769, 'Labor_Party_(Mexico)': 416, 'Category:Political_parties_in_Mexico': 140, 'President_of_the_Chamber_of_Deputies_(Mexico)': 1515, 'Ministry_of_Foreign_Affairs_(Mexico)': 749, 'Colima_Democratic_Association#cite_ref-2': 194, 'Colima': 1090, 'Boroughs_of_Mexico_City': 408, 'Talk:Colima_Democratic_Association': 113, 'Mexican_labor_law': 269, 'Colima_Democratic_Association#': 194, 'Political_spectrum': 1103, 'Capital_punishment_in_Mexico': 361, 'Citizens%27_Movement_(Mexico)': 400, 'Gerardo_Fern%C3%A1ndez_Noro%C3%B1a': 230, 'Portal:Mexico': 1487, 'Foreign_relations_of_Mexico': 5783, 'Abortion_in_Mexico': 1055, 'Colima_Democratic_Association#cite_note-3': 194, '2021_Mexican_legislative_election': 667, 'Settlement_classification_in_Mexico': 238, 'Colima_Democratic_Association?action=edit': 260, 'Democracy': 4337, 'Colima_Democratic_Association#bodyContent': 196, 'List_of_constitutions_of_Mexico': 194, 'Human_rights_in_Mexico': 538, '2024_Mexican_general_election': 1880, 'Firearms_regulation_in_Mexico': 826, 'Category:Central_American_political_party_stubs': 305, 'Claudia_Sheinbaum': 2593, 'Category:Political_parties_established_in_2003': 324, 'Congress_of_Mexico_City': 235, 'List_of_cities_in_Mexico': 799, 'Category:All_stub_articles': 554, 'Congress_of_the_Union': 613, 'Elections_in_Mexico': 924, '2003_Colima_state_election': 170, 'Template:Politics_of_Mexico': 203, 'List_of_Mexican_state_congresses': 183, 'Chamber_of_Deputies_(Mexico)': 481, '2010_Mexican_gubernatorial_elections': 441, '2006_Mexican_general_election': 870, 'Institutional_Revolutionary_Party': 1412, 'Cabinet_of_Mexico': 383, 'List_of_political_parties_in_Mexico': 621, 'Template_talk:Mexico-party-stub': 98, 'Mexico': 3800, 'Federal_electoral_districts_of_Mexico': 1060, 'Supreme_Court_of_Justice_of_the_Nation': 680, 'List_of_political_ideologies': 13481, 'Mexican_passport': 443, 'Life_imprisonment_in_Mexico': 125, '2018_Mexican_general_election': 1217, 'List_of_diplomatic_missions_in_Mexico': 1286, 'LXVI_Legislature_of_the_Mexican_Congress': 1461, 'Congress_of_Colima': 197, 'Politics_of_Mexico': 829, 'Visa_policy_of_Mexico': 973, 'President_of_the_Senate_(Mexico)': 749, 'List_of_states_of_Mexico': 459, 'Category:Mexican_organization_stubs': 151, 'Antonio_Morales_de_la_Pe%C3%B1a': 123, 'Colima_Democratic_Association#cite_note-2': 195, 'Template_talk:Politics_of_Mexico': 93, 'Senate_of_the_Republic_(Mexico)': 446, 'Morena_(political_party)': 661}\n"
          ]
        }
      ]
    },
    {
      "cell_type": "code",
      "source": [],
      "metadata": {
        "id": "byWLLlioHJ3b"
      },
      "execution_count": null,
      "outputs": []
    },
    {
      "cell_type": "code",
      "source": [],
      "metadata": {
        "id": "Vxi1D7pjD5wX"
      },
      "execution_count": null,
      "outputs": []
    },
    {
      "cell_type": "code",
      "source": [],
      "metadata": {
        "id": "Le2obgTUD5zm"
      },
      "execution_count": null,
      "outputs": []
    }
  ]
}