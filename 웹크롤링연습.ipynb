{
  "nbformat": 4,
  "nbformat_minor": 0,
  "metadata": {
    "colab": {
      "provenance": [],
      "authorship_tag": "ABX9TyPqo9R6QtnCc28mv2uTO6JT",
      "include_colab_link": true
    },
    "kernelspec": {
      "name": "python3",
      "display_name": "Python 3"
    },
    "language_info": {
      "name": "python"
    }
  },
  "cells": [
    {
      "cell_type": "markdown",
      "metadata": {
        "id": "view-in-github",
        "colab_type": "text"
      },
      "source": [
        "<a href=\"https://colab.research.google.com/github/ggongch2/web-scarping/blob/main/%EC%9B%B9%ED%81%AC%EB%A1%A4%EB%A7%81%EC%97%B0%EC%8A%B5.ipynb\" target=\"_parent\"><img src=\"https://colab.research.google.com/assets/colab-badge.svg\" alt=\"Open In Colab\"/></a>"
      ]
    },
    {
      "cell_type": "code",
      "source": [
        "pip install selenium"
      ],
      "metadata": {
        "id": "tWhEOp94m-or"
      },
      "execution_count": null,
      "outputs": []
    },
    {
      "cell_type": "code",
      "source": [
        "from google.colab import drive\n",
        "drive.mount('/content/drive')"
      ],
      "metadata": {
        "colab": {
          "base_uri": "https://localhost:8080/"
        },
        "id": "WuNG4Z8ynECC",
        "outputId": "897542c6-f846-48d1-d609-3bc5064c32e7"
      },
      "execution_count": null,
      "outputs": [
        {
          "output_type": "stream",
          "name": "stdout",
          "text": [
            "Mounted at /content/drive\n"
          ]
        }
      ]
    },
    {
      "cell_type": "code",
      "source": [
        "#최초 1회\n",
        "!apt install chromium-chromedriver\n",
        "!cp /usr/lib/chromium-browser/chromedriver '/content/drive/MyDrive/Colab Notebooks' #\n",
        "!pip install chromedriver-autoinstaller\n"
      ],
      "metadata": {
        "id": "uPWZH0U1nfPe"
      },
      "execution_count": null,
      "outputs": []
    },
    {
      "cell_type": "code",
      "source": [
        "https://velog.io/@kite_day/colab-%EC%97%90%EC%84%9C-%EC%9B%B9-%ED%81%AC%EB%A1%A4%EB%A7%81%ED%95%98%EA%B8%B0-selenium\n",
        "https://m.blog.naver.com/sinx2233/223223626622 # selenium 응답 확인 seleniumwire\n",
        "https://velog.io/@sangyeon217/selenium-webdriver-wait webdriverwait\n"
      ],
      "metadata": {
        "id": "yap-5-rP4KUj"
      },
      "execution_count": null,
      "outputs": []
    },
    {
      "cell_type": "code",
      "execution_count": 17,
      "metadata": {
        "id": "HOSt56xNlqm9"
      },
      "outputs": [],
      "source": [
        "from bs4 import BeautifulSoup, Tag\n",
        "import requests\n",
        "import re\n",
        "import random\n",
        "import sys\n",
        "import selenium\n",
        "import time\n",
        "from selenium.webdriver.common.by import By\n",
        "from selenium.webdriver.support.ui import WebDriverWait\n",
        "from selenium.webdriver.support import expected_conditions as EC\n",
        "from selenium.webdriver.common.keys import Keys\n",
        "from selenium import webdriver"
      ]
    },
    {
      "cell_type": "code",
      "source": [
        "chrome_path = \"/content/drive/MyDrive/Colab Notebooks/chromedriver\"\n",
        "sys.path.insert(0,chrome_path)\n",
        "chrome_options = webdriver.ChromeOptions()\n",
        "chrome_options.add_argument('--headless') # ensure GUI is off\n",
        "chrome_options.add_argument('--no-sandbox')\n",
        "chrome_options.add_argument('--disable-dev-shm-usage')  # set path to chromedriver as per your configuration\n",
        "chrome_options.add_argument('lang=ko_KR') # 한국어\n"
      ],
      "metadata": {
        "id": "cdQNQiORntHm"
      },
      "execution_count": null,
      "outputs": []
    },
    {
      "cell_type": "code",
      "source": [
        "url = \"https://en.wikipedia.org/wiki/Main_Page\"\n",
        "\n",
        "driver = webdriver.Chrome(options = chrome_options)\n",
        "driver.get(url)\n",
        "html = driver.page_source\n",
        "soup = BeautifulSoup(html, 'html.parser')"
      ],
      "metadata": {
        "id": "jL9cHk2El5_i"
      },
      "execution_count": 19,
      "outputs": []
    },
    {
      "cell_type": "code",
      "source": [
        "driver.find_element(By.XPATH, \"//body\").send_keys(Keys.ALT, Keys.SHIFT, 'x')\n",
        "\n",
        "Title = driver.find_element(By.ID, 'firstHeading').text\n",
        "# 예시 <h1 id=\"firstHeading\" class=\"firstHeading mw-first-heading\"><i>Delta</i> (Australian TV series)</h1>\n",
        "\n",
        "#   속성값 출력\n",
        "#element = driver.find_element_by_css_selector(\"img\")\n",
        "#src = element.get_attribute(\"src\")\n",
        "\n",
        "print(Title)\n"
      ],
      "metadata": {
        "id": "mLCJgVjtxl-k",
        "colab": {
          "base_uri": "https://localhost:8080/"
        },
        "outputId": "fb4441cb-bfd4-41e9-c046-dadc4a2d6d12"
      },
      "execution_count": 21,
      "outputs": [
        {
          "output_type": "stream",
          "name": "stdout",
          "text": [
            "Mummel Gulf National Park\n"
          ]
        }
      ]
    },
    {
      "cell_type": "code",
      "source": [
        "# 랜덤문서에 방문해서 그문서에 기여한 사람 집계\n",
        "# 다른 문서에 기여한 사람 집계 -> 모두 나라별\n",
        "# 그래서 나라별 기여도가 비슷할수록 비슷한 문서/연관성이 높다고 볼수 있지않을까?\n",
        "\n",
        "# 외부링크들을 모아서 Set에 넣고\n",
        "#위키 재밌는 문서 찾기\n",
        "# 랜덤문서 찾고 연관 문서가 다양한 것 ? 많은것?"
      ],
      "metadata": {
        "id": "3qYYpHVLvfgc"
      },
      "execution_count": null,
      "outputs": []
    },
    {
      "cell_type": "code",
      "source": [
        "a_tag = driver.find_elements(By.TAG_NAME, 'a') # -> 이부분 잘 모르겠음\n",
        "for each in a_tag :\n",
        "  href_url = each.get_attribute('href')\n",
        "  href_value = get_href_name(href_url)\n",
        "  if href_value is not None :\n",
        "    print(href_url)\n",
        "\n",
        "\n",
        "\n",
        "\n",
        "# href 링크 모으기. class=new인건 수집x. /wiki/... 형식이여야함"
      ],
      "metadata": {
        "id": "WSOB5okIxmBh",
        "colab": {
          "base_uri": "https://localhost:8080/"
        },
        "collapsed": true,
        "outputId": "e2372d61-77a4-41be-8a38-ed3a8978a1f9"
      },
      "execution_count": 37,
      "outputs": [
        {
          "output_type": "stream",
          "name": "stdout",
          "text": [
            "https://en.wikipedia.org/wiki/Mummel_Gulf_National_Park#bodyContent\n",
            "https://en.wikipedia.org/wiki/Main_Page\n",
            "https://en.wikipedia.org/wiki/Portal:Current_events\n",
            "https://en.wikipedia.org/wiki/Special:Random\n",
            "https://en.wikipedia.org/wiki/Help:Contents\n",
            "https://en.wikipedia.org/wiki/Help:Introduction\n",
            "https://en.wikipedia.org/wiki/Special:RecentChanges\n",
            "https://en.wikipedia.org/wiki/Main_Page\n",
            "https://en.wikipedia.org/wiki/Special:Search\n",
            "https://en.wikipedia.org/wiki/Help:Introduction\n",
            "https://en.wikipedia.org/wiki/Special:MyContributions\n",
            "https://en.wikipedia.org/wiki/Special:MyTalk\n",
            "https://en.wikipedia.org/wiki/Mummel_Gulf_National_Park#\n",
            "https://en.wikipedia.org/wiki/Mummel_Gulf_National_Park#Flora_and_fauna\n",
            "https://en.wikipedia.org/wiki/Mummel_Gulf_National_Park#History\n",
            "https://en.wikipedia.org/wiki/Mummel_Gulf_National_Park#Pest_animals_and_weeds\n",
            "https://en.wikipedia.org/wiki/Mummel_Gulf_National_Park#Access_and_facilities\n",
            "https://en.wikipedia.org/wiki/Mummel_Gulf_National_Park#See_also\n",
            "https://en.wikipedia.org/wiki/Mummel_Gulf_National_Park#References\n",
            "https://en.wikipedia.org/wiki/Mummel_Gulf_National_Park\n",
            "https://en.wikipedia.org/wiki/Talk:Mummel_Gulf_National_Park\n",
            "https://en.wikipedia.org/wiki/Mummel_Gulf_National_Park\n",
            "https://en.wikipedia.org/wiki/Mummel_Gulf_National_Park\n",
            "https://en.wikipedia.org/wiki/Special:WhatLinksHere/Mummel_Gulf_National_Park\n",
            "https://en.wikipedia.org/wiki/Special:RecentChangesLinked/Mummel_Gulf_National_Park\n",
            "https://en.wikipedia.org/wiki/Special:SpecialPages\n",
            "https://en.wikipedia.org/wiki/Mummel_Gulf_National_Park#\n",
            "https://en.wikipedia.org/wiki/Geographic_coordinate_system\n",
            "https://en.wikipedia.org/wiki/New_South_Wales\n",
            "https://en.wikipedia.org/wiki/IUCN_protected_area_categories\n",
            "https://en.wikipedia.org/wiki/National_park\n",
            "https://en.wikipedia.org/wiki/File:NewCountrySwamp.JPG\n",
            "https://en.wikipedia.org/wiki/File:Australia_New_South_Wales_relief_location_map.png\n",
            "https://en.wikipedia.org/wiki/Walcha,_New_South_Wales\n",
            "https://en.wikipedia.org/wiki/Geographic_coordinate_system\n",
            "https://en.wikipedia.org/wiki/National_Parks_and_Wildlife_Service_(New_South_Wales)\n",
            "https://en.wikipedia.org/wiki/Protected_areas_of_New_South_Wales\n",
            "https://en.wikipedia.org/wiki/National_park\n",
            "https://en.wikipedia.org/wiki/New_South_Wales\n",
            "https://en.wikipedia.org/wiki/Australia\n",
            "https://en.wikipedia.org/wiki/Sydney\n",
            "https://en.wikipedia.org/wiki/Walcha,_New_South_Wales\n",
            "https://en.wikipedia.org/wiki/Oxley_Highway\n",
            "https://en.wikipedia.org/wiki/Gorge\n",
            "https://en.wikipedia.org/wiki/Sclerophyll\n",
            "https://en.wikipedia.org/wiki/Eucalyptus_pauciflora\n",
            "https://en.wikipedia.org/wiki/Eucalyptus_obliqua\n",
            "https://en.wikipedia.org/wiki/Stringybark\n",
            "https://en.wikipedia.org/wiki/Eucalyptus_saligna\n",
            "https://en.wikipedia.org/wiki/Tasmannia_purpurascens\n",
            "https://en.wikipedia.org/wiki/Doryphora_sassafras\n",
            "https://en.wikipedia.org/wiki/Koala\n",
            "https://en.wikipedia.org/wiki/Quoll\n",
            "https://en.wikipedia.org/wiki/Mummel_Gulf_National_Park#cite_note-1\n",
            "https://en.wikipedia.org/wiki/File:PortersTowers.JPG\n",
            "https://en.wikipedia.org/wiki/Northern_Tablelands\n",
            "https://en.wikipedia.org/wiki/John_Oxley\n",
            "https://en.wikipedia.org/wiki/Apsley_Falls\n",
            "https://en.wikipedia.org/wiki/Manganese\n",
            "https://en.wikipedia.org/wiki/Bicentennial_National_Trail\n",
            "https://en.wikipedia.org/wiki/Australian_Height_Datum\n",
            "https://en.wikipedia.org/wiki/Forestry_Corporation_of_NSW\n",
            "https://en.wikipedia.org/wiki/Mummel_Gulf_National_Park#cite_note-2\n",
            "https://en.wikipedia.org/wiki/Ageratina_adenophora\n",
            "https://en.wikipedia.org/wiki/Blackberry\n",
            "https://en.wikipedia.org/wiki/Four-wheel_drive\n",
            "https://en.wikipedia.org/wiki/Mummel_Gulf_National_Park#cite_note-3\n",
            "https://en.wikipedia.org/wiki/Protected_areas_of_New_South_Wales\n",
            "https://en.wikipedia.org/wiki/Mummel_Gulf_National_Park#cite_ref-1\n",
            "https://en.wikipedia.org/wiki/Mummel_Gulf_National_Park#cite_ref-2\n",
            "https://en.wikipedia.org/wiki/Mummel_Gulf_National_Park#cite_ref-3\n",
            "https://en.wikipedia.org/wiki/Template:National_Parks_of_New_South_Wales\n",
            "https://en.wikipedia.org/wiki/Template_talk:National_Parks_of_New_South_Wales\n",
            "https://en.wikipedia.org/wiki/Special:EditPage/Template:National_Parks_of_New_South_Wales\n",
            "https://en.wikipedia.org/wiki/National_park\n",
            "https://en.wikipedia.org/wiki/New_South_Wales\n",
            "https://en.wikipedia.org/wiki/Australia\n",
            "https://en.wikipedia.org/wiki/Abercrombie_River_National_Park\n",
            "https://en.wikipedia.org/wiki/Capertee_National_Park\n",
            "https://en.wikipedia.org/wiki/Conimbla_National_Park\n",
            "https://en.wikipedia.org/wiki/Coolah_Tops_National_Park\n",
            "https://en.wikipedia.org/wiki/Gardens_of_Stone_National_Park\n",
            "https://en.wikipedia.org/wiki/Garrawilla_National_Park\n",
            "https://en.wikipedia.org/wiki/Goobang_National_Park\n",
            "https://en.wikipedia.org/wiki/Goulburn_River_National_Park\n",
            "https://en.wikipedia.org/wiki/Kanangra-Boyd_National_Park\n",
            "https://en.wikipedia.org/wiki/Nangar_National_Park\n",
            "https://en.wikipedia.org/wiki/Popran_National_Park\n",
            "https://en.wikipedia.org/wiki/Turon_National_Park\n",
            "https://en.wikipedia.org/wiki/Warrumbungle_National_Park\n",
            "https://en.wikipedia.org/wiki/Weddin_Mountains_National_Park\n",
            "https://en.wikipedia.org/wiki/Wollemi_National_Park\n",
            "https://en.wikipedia.org/wiki/Culgoa_National_Park\n",
            "https://en.wikipedia.org/wiki/Gundabooka_National_Park\n",
            "https://en.wikipedia.org/wiki/Kinchega_National_Park\n",
            "https://en.wikipedia.org/wiki/Mallee_Cliffs_National_Park\n",
            "https://en.wikipedia.org/wiki/Mungo_National_Park\n",
            "https://en.wikipedia.org/wiki/Mutawintji_National_Park\n",
            "https://en.wikipedia.org/wiki/Narriearra_Caryapundy_Swamp_National_Park\n",
            "https://en.wikipedia.org/wiki/Paroo-Darling_National_Park\n",
            "https://en.wikipedia.org/wiki/Sturt_National_Park\n",
            "https://en.wikipedia.org/wiki/Toorale_National_Park\n",
            "https://en.wikipedia.org/wiki/Yanga_National_Park\n",
            "https://en.wikipedia.org/wiki/Barakee_National_Park\n",
            "https://en.wikipedia.org/wiki/Barrington_Tops_National_Park\n",
            "https://en.wikipedia.org/wiki/Belford_National_Park\n",
            "https://en.wikipedia.org/wiki/Ben_Halls_Gap_National_Park\n",
            "https://en.wikipedia.org/wiki/Biriwal_Bulga_National_Park\n",
            "https://en.wikipedia.org/wiki/Booti_Booti_National_Park\n",
            "https://en.wikipedia.org/wiki/Bouddi_National_Park\n",
            "https://en.wikipedia.org/wiki/Brisbane_Water_National_Park\n",
            "https://en.wikipedia.org/wiki/Coolah_Tops_National_Park\n",
            "https://en.wikipedia.org/wiki/Coorabakh_National_Park\n",
            "https://en.wikipedia.org/wiki/Crowdy_Bay_National_Park\n",
            "https://en.wikipedia.org/wiki/Dharug_National_Park\n",
            "https://en.wikipedia.org/wiki/Goulburn_River_National_Park\n",
            "https://en.wikipedia.org/wiki/Ghin-Doo-Ee_National_Park\n",
            "https://en.wikipedia.org/wiki/Middle_Brother_National_Park\n",
            "https://en.wikipedia.org/wiki/Mount_Royal_National_Park\n",
            "https://en.wikipedia.org/wiki/Myall_Lakes_National_Park\n",
            "https://en.wikipedia.org/wiki/Tapin_Tops_National_Park\n",
            "https://en.wikipedia.org/wiki/Towarri_National_Park\n",
            "https://en.wikipedia.org/wiki/Tomaree_National_Park\n",
            "https://en.wikipedia.org/wiki/Wallingat_National_Park\n",
            "https://en.wikipedia.org/wiki/Watagans_National_Park\n",
            "https://en.wikipedia.org/wiki/Werakata_National_Park\n",
            "https://en.wikipedia.org/wiki/Woko_National_Park\n",
            "https://en.wikipedia.org/wiki/Wollemi_National_Park\n",
            "https://en.wikipedia.org/wiki/Wyrrabalong_National_Park\n",
            "https://en.wikipedia.org/wiki/Yengo_National_Park\n",
            "https://en.wikipedia.org/wiki/Bimberamala_National_Park\n",
            "https://en.wikipedia.org/wiki/Budawang_National_Park\n",
            "https://en.wikipedia.org/wiki/Budderoo_National_Park\n",
            "https://en.wikipedia.org/wiki/Bugong_National_Park\n",
            "https://en.wikipedia.org/wiki/Conjola_National_Park\n",
            "https://en.wikipedia.org/wiki/Dharawal_National_Park\n",
            "https://en.wikipedia.org/wiki/Heathcote_National_Park\n",
            "https://en.wikipedia.org/wiki/Jerrawangala_National_Park\n",
            "https://en.wikipedia.org/wiki/Jervis_Bay_National_Park\n",
            "https://en.wikipedia.org/wiki/Macquarie_Pass_National_Park\n",
            "https://en.wikipedia.org/wiki/Meroo_National_Park\n",
            "https://en.wikipedia.org/wiki/Morton_National_Park\n",
            "https://en.wikipedia.org/wiki/Murramarang_National_Park\n",
            "https://en.wikipedia.org/wiki/Royal_National_Park\n",
            "https://en.wikipedia.org/wiki/Seven_Mile_Beach_National_Park\n",
            "https://en.wikipedia.org/wiki/Bald_Rock_National_Park\n",
            "https://en.wikipedia.org/wiki/Barool_National_Park\n",
            "https://en.wikipedia.org/wiki/Basket_Swamp_National_Park\n",
            "https://en.wikipedia.org/wiki/Boonoo_Boonoo_National_Park\n",
            "https://en.wikipedia.org/wiki/Ben_Halls_Gap_National_Park\n",
            "https://en.wikipedia.org/wiki/Butterleaf_National_Park\n",
            "https://en.wikipedia.org/wiki/Capoompeta_National_Park\n",
            "https://en.wikipedia.org/wiki/Carrai_National_Park\n",
            "https://en.wikipedia.org/wiki/Cascade_National_Park\n",
            "https://en.wikipedia.org/wiki/Cathedral_Rock_National_Park\n",
            "https://en.wikipedia.org/wiki/Coolah_Tops_National_Park\n",
            "https://en.wikipedia.org/wiki/Cottan-Bimbang_National_Park\n",
            "https://en.wikipedia.org/wiki/Cunnawarra_National_Park\n",
            "https://en.wikipedia.org/wiki/Gibraltar_Range_National_Park\n",
            "https://en.wikipedia.org/wiki/Guy_Fawkes_River_National_Park\n",
            "https://en.wikipedia.org/wiki/Indwarra_National_Park\n",
            "https://en.wikipedia.org/wiki/Kings_Plains_National_Park\n",
            "https://en.wikipedia.org/wiki/Koreelah_National_Park\n",
            "https://en.wikipedia.org/wiki/Kwiambal_National_Park\n",
            "https://en.wikipedia.org/wiki/Maryland_National_Park\n",
            "https://en.wikipedia.org/wiki/Mount_Clunie_National_Park\n",
            "https://en.wikipedia.org/wiki/Mount_Kaputar_National_Park\n",
            "https://en.wikipedia.org/wiki/Mount_Nothofagus_National_Park\n",
            "https://en.wikipedia.org/wiki/New_England_National_Park\n",
            "https://en.wikipedia.org/wiki/Nowendoc_National_Park\n",
            "https://en.wikipedia.org/wiki/Nymboida_National_Park\n",
            "https://en.wikipedia.org/wiki/Oxley_Wild_Rivers_National_Park\n",
            "https://en.wikipedia.org/wiki/Single_National_Park\n",
            "https://en.wikipedia.org/wiki/Tooloom_National_Park\n",
            "https://en.wikipedia.org/wiki/Towarri_National_Park\n",
            "https://en.wikipedia.org/wiki/Warra_National_Park\n",
            "https://en.wikipedia.org/wiki/Warrabah_National_Park\n",
            "https://en.wikipedia.org/wiki/Washpool_National_Park\n",
            "https://en.wikipedia.org/wiki/Werrikimbe_National_Park\n",
            "https://en.wikipedia.org/wiki/Arakwal_National_Park\n",
            "https://en.wikipedia.org/wiki/Bago_Bluff_National_Park\n",
            "https://en.wikipedia.org/wiki/Bellinger_River_National_Park\n",
            "https://en.wikipedia.org/wiki/Bindarri_National_Park\n",
            "https://en.wikipedia.org/wiki/Biriwal_Bulga_National_Park\n",
            "https://en.wikipedia.org/wiki/Bongil_Bongil_National_Park\n",
            "https://en.wikipedia.org/wiki/Border_Ranges_National_Park\n",
            "https://en.wikipedia.org/wiki/Broadwater_National_Park\n",
            "https://en.wikipedia.org/wiki/Bundjalung_National_Park\n",
            "https://en.wikipedia.org/wiki/Bungawalbin_National_Park\n",
            "https://en.wikipedia.org/wiki/Carrai_National_Park\n",
            "https://en.wikipedia.org/wiki/Chaelundi_National_Park\n",
            "https://en.wikipedia.org/wiki/Cottan-Bimbang_National_Park\n",
            "https://en.wikipedia.org/wiki/Crowdy_Bay_National_Park\n",
            "https://en.wikipedia.org/wiki/Dooragan_National_Park\n",
            "https://en.wikipedia.org/wiki/Dorrigo_National_Park\n",
            "https://en.wikipedia.org/wiki/Dunggir_National_Park\n",
            "https://en.wikipedia.org/wiki/Fortis_Creek_National_Park\n",
            "https://en.wikipedia.org/wiki/Gibraltar_Range_National_Park\n",
            "https://en.wikipedia.org/wiki/Goonengerry_National_Park\n",
            "https://en.wikipedia.org/wiki/Guy_Fawkes_River_National_Park\n",
            "https://en.wikipedia.org/wiki/Hat_Head_National_Park\n",
            "https://en.wikipedia.org/wiki/Junuy_Juluum_National_Park\n",
            "https://en.wikipedia.org/wiki/Kumbatine_National_Park\n",
            "https://en.wikipedia.org/wiki/Limeburners_Creek_National_Park\n",
            "https://en.wikipedia.org/wiki/Mallanganee_National_Park\n",
            "https://en.wikipedia.org/wiki/Maria_National_Park\n",
            "https://en.wikipedia.org/wiki/Mebbin_National_Park\n",
            "https://en.wikipedia.org/wiki/Middle_Brother_National_Park\n",
            "https://en.wikipedia.org/wiki/Mooball_National_Park\n",
            "https://en.wikipedia.org/wiki/Mount_Jerusalem_National_Park\n",
            "https://en.wikipedia.org/wiki/Mount_Nothofagus_National_Park\n",
            "https://en.wikipedia.org/wiki/Mount_Pikapene_National_Park\n",
            "https://en.wikipedia.org/wiki/New_England_National_Park\n",
            "https://en.wikipedia.org/wiki/Nightcap_National_Park\n",
            "https://en.wikipedia.org/wiki/Nymboi-Binderay_National_Park\n",
            "https://en.wikipedia.org/wiki/Nymboida_National_Park\n",
            "https://en.wikipedia.org/wiki/Ramornie_National_Park\n",
            "https://en.wikipedia.org/wiki/Richmond_Range_National_Park\n",
            "https://en.wikipedia.org/wiki/Sea_Acres_National_Park\n",
            "https://en.wikipedia.org/wiki/Toonumbar_National_Park\n",
            "https://en.wikipedia.org/wiki/Ulidarra_National_Park\n",
            "https://en.wikipedia.org/wiki/Washpool_National_Park\n",
            "https://en.wikipedia.org/wiki/Werrikimbe_National_Park\n",
            "https://en.wikipedia.org/wiki/Willi_Willi_National_Park\n",
            "https://en.wikipedia.org/wiki/Wollumbin_National_Park\n",
            "https://en.wikipedia.org/wiki/Yabbra_National_Park\n",
            "https://en.wikipedia.org/wiki/Yarriabini_National_Park\n",
            "https://en.wikipedia.org/wiki/Yuraygir_National_Park\n",
            "https://en.wikipedia.org/wiki/Benambra_National_Park\n",
            "https://en.wikipedia.org/wiki/Brindabella_National_Park\n",
            "https://en.wikipedia.org/wiki/Cocoparra_National_Park\n",
            "https://en.wikipedia.org/wiki/Jindalee_National_Park\n",
            "https://en.wikipedia.org/wiki/Kosciuszko_National_Park\n",
            "https://en.wikipedia.org/wiki/Livingstone_National_Park\n",
            "https://en.wikipedia.org/wiki/Murray_Valley_National_Park\n",
            "https://en.wikipedia.org/wiki/Murrumbidgee_Valley_National_Park\n",
            "https://en.wikipedia.org/wiki/Oolambeyan_National_Park\n",
            "https://en.wikipedia.org/wiki/Willandra_National_Park\n",
            "https://en.wikipedia.org/wiki/Woomargama_National_Park\n",
            "https://en.wikipedia.org/wiki/Yanga_National_Park\n",
            "https://en.wikipedia.org/wiki/Abercrombie_River_National_Park\n",
            "https://en.wikipedia.org/wiki/Bangadilly_National_Park\n",
            "https://en.wikipedia.org/wiki/Beowa_National_Park\n",
            "https://en.wikipedia.org/wiki/Biamanga_National_Park\n",
            "https://en.wikipedia.org/wiki/Blue_Mountains_National_Park\n",
            "https://en.wikipedia.org/wiki/Bournda_National_Park\n",
            "https://en.wikipedia.org/wiki/Brindabella_National_Park\n",
            "https://en.wikipedia.org/wiki/Budawang_National_Park\n",
            "https://en.wikipedia.org/wiki/Budderoo_National_Park\n",
            "https://en.wikipedia.org/wiki/Clyde_River_National_Park\n",
            "https://en.wikipedia.org/wiki/Deua_National_Park\n",
            "https://en.wikipedia.org/wiki/Eurobodalla_National_Park\n",
            "https://en.wikipedia.org/wiki/Gulaga_National_Park\n",
            "https://en.wikipedia.org/wiki/Kooraban_National_Park\n",
            "https://en.wikipedia.org/wiki/Kosciuszko_National_Park\n",
            "https://en.wikipedia.org/wiki/Mares_Forest_National_Park\n",
            "https://en.wikipedia.org/wiki/Macquarie_Pass_National_Park\n",
            "https://en.wikipedia.org/wiki/Mimosa_Rocks_National_Park\n",
            "https://en.wikipedia.org/wiki/Monga_National_Park\n",
            "https://en.wikipedia.org/wiki/Morton_National_Park\n",
            "https://en.wikipedia.org/wiki/Mount_Imlay_National_Park\n",
            "https://en.wikipedia.org/wiki/Murramarang_National_Park\n",
            "https://en.wikipedia.org/wiki/Nattai_National_Park\n",
            "https://en.wikipedia.org/wiki/South_East_Forests_National_Park\n",
            "https://en.wikipedia.org/wiki/Tallaganda_National_Park\n",
            "https://en.wikipedia.org/wiki/Tarlo_River_National_Park\n",
            "https://en.wikipedia.org/wiki/Wadbilliga_National_Park\n",
            "https://en.wikipedia.org/wiki/Berowra_Valley_National_Park\n",
            "https://en.wikipedia.org/wiki/Blue_Mountains_National_Park\n",
            "https://en.wikipedia.org/wiki/Cattai_National_Park\n",
            "https://en.wikipedia.org/wiki/Dharawal_National_Park\n",
            "https://en.wikipedia.org/wiki/Dharug_National_Park\n",
            "https://en.wikipedia.org/wiki/Garigal_National_Park\n",
            "https://en.wikipedia.org/wiki/Georges_River_National_Park\n",
            "https://en.wikipedia.org/wiki/Heathcote_National_Park\n",
            "https://en.wikipedia.org/wiki/Kamay_Botany_Bay_National_Park\n",
            "https://en.wikipedia.org/wiki/Kanangra-Boyd_National_Park\n",
            "https://en.wikipedia.org/wiki/Ku-ring-gai_Chase_National_Park\n",
            "https://en.wikipedia.org/wiki/Lane_Cove_National_Park\n",
            "https://en.wikipedia.org/wiki/Marramarra_National_Park\n",
            "https://en.wikipedia.org/wiki/Nattai_National_Park\n",
            "https://en.wikipedia.org/wiki/Royal_National_Park\n",
            "https://en.wikipedia.org/wiki/Scheyville_National_Park\n",
            "https://en.wikipedia.org/wiki/Sydney_Harbour_National_Park\n",
            "https://en.wikipedia.org/wiki/Thirlmere_Lakes_National_Park\n",
            "https://en.wikipedia.org/wiki/Wollemi_National_Park\n",
            "https://en.wikipedia.org/wiki/Yengo_National_Park\n",
            "https://en.wikipedia.org/wiki/Protected_areas_of_New_South_Wales#National_Parks\n",
            "https://en.wikipedia.org/wiki/Help:Category\n",
            "https://en.wikipedia.org/wiki/Category:IUCN_Category_II\n",
            "https://en.wikipedia.org/wiki/Category:National_parks_of_New_South_Wales\n",
            "https://en.wikipedia.org/wiki/Category:Northern_Tablelands\n",
            "https://en.wikipedia.org/wiki/Category:Protected_areas_established_in_1999\n",
            "https://en.wikipedia.org/wiki/Category:1999_establishments_in_Australia\n",
            "https://en.wikipedia.org/wiki/Category:Pages_using_gadget_WikiMiniAtlas\n",
            "https://en.wikipedia.org/wiki/Category:Use_dmy_dates_from_September_2014\n",
            "https://en.wikipedia.org/wiki/Category:Use_Australian_English_from_September_2014\n",
            "https://en.wikipedia.org/wiki/Category:Articles_with_short_description\n",
            "https://en.wikipedia.org/wiki/Category:Short_description_is_different_from_Wikidata\n",
            "https://en.wikipedia.org/wiki/Category:Coordinates_on_Wikidata\n",
            "https://en.wikipedia.org/wiki/Mummel_Gulf_National_Park#\n",
            "https://en.wikipedia.org/wiki/Mummel_Gulf_National_Park?action=edit\n"
          ]
        }
      ]
    },
    {
      "cell_type": "code",
      "source": [
        "def get_href_name(url) :\n",
        "  if url is not None :\n",
        "    if url.startswith(\"https://en.wikipedia.org/wiki/\") :\n",
        "      parts = url.split(\"/\")\n",
        "      wiki_index = parts.index(\"wiki\")\n",
        "      if \"Wikipedia\" not in parts[wiki_index+1] :\n",
        "        return parts[wiki_index+1]\n",
        "  else :\n",
        "    return None\n",
        "#cite도 없어야함, category 이것도 없어야함\n",
        "#나머지 중복링크는 직접 수작업으로 처리\n",
        "\n",
        "\n",
        "urls = [\n",
        "    \"https://en.wikipedia.org/wiki/Geographic_coordinate_system\",\n",
        "    \"https://en.wikipedia.org/wiki/New_South_Wales\",\n",
        "    \"https://en.wikipedia.org/wiki/Main_Page\",  # 정상적인 URL\n",
        "    \"https://en.wikipedia.org/\",  # wiki가 없는 경우\n",
        "    \"https://www.example.com/page1\", # 다른 URL\n",
        "    \"https://en.wikipedia.org/wiki/\",\n",
        "    \"https://en.wikipedia.org/wiki/Wollemi_National_Park\",\n",
        "    \"https://en.wikipedia.org/wiki/Wikipedia:Text_of_the_Creative_Commons_Attribution-ShareAlike_4.0_International_License\",\n",
        "    \"https://foundation.wikimedia.org/wiki/Special:MyLanguage/Policy:Universal_Code_of_Conduct\"\n",
        "\n",
        "]\n",
        "\n",
        "\n",
        "for url in urls :\n",
        "  print(get_href_name(url))\n"
      ],
      "metadata": {
        "colab": {
          "base_uri": "https://localhost:8080/"
        },
        "id": "dpQOPYiddw-1",
        "outputId": "148e9a39-eb49-446e-e702-8e6d8626431d"
      },
      "execution_count": 36,
      "outputs": [
        {
          "output_type": "stream",
          "name": "stdout",
          "text": [
            "Geographic_coordinate_system\n",
            "New_South_Wales\n",
            "Main_Page\n",
            "None\n",
            "None\n",
            "\n",
            "Wollemi_National_Park\n",
            "None\n",
            "None\n"
          ]
        }
      ]
    },
    {
      "cell_type": "code",
      "source": [],
      "metadata": {
        "id": "mjivM89ExmDj"
      },
      "execution_count": null,
      "outputs": []
    },
    {
      "cell_type": "code",
      "source": [],
      "metadata": {
        "id": "qUK5UgZQxmFu"
      },
      "execution_count": null,
      "outputs": []
    },
    {
      "cell_type": "code",
      "source": [],
      "metadata": {
        "id": "Ueikv38QxmJd"
      },
      "execution_count": null,
      "outputs": []
    },
    {
      "cell_type": "code",
      "source": [],
      "metadata": {
        "id": "cFO7Mm4OpMZQ"
      },
      "execution_count": null,
      "outputs": []
    }
  ]
}