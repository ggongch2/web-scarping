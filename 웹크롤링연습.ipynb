{
  "nbformat": 4,
  "nbformat_minor": 0,
  "metadata": {
    "colab": {
      "provenance": [],
      "authorship_tag": "ABX9TyPQgW3C7tyOkqrgxnMvoiDD",
      "include_colab_link": true
    },
    "kernelspec": {
      "name": "python3",
      "display_name": "Python 3"
    },
    "language_info": {
      "name": "python"
    }
  },
  "cells": [
    {
      "cell_type": "markdown",
      "metadata": {
        "id": "view-in-github",
        "colab_type": "text"
      },
      "source": [
        "<a href=\"https://colab.research.google.com/github/ggongch2/web-scarping/blob/main/%EC%9B%B9%ED%81%AC%EB%A1%A4%EB%A7%81%EC%97%B0%EC%8A%B5.ipynb\" target=\"_parent\"><img src=\"https://colab.research.google.com/assets/colab-badge.svg\" alt=\"Open In Colab\"/></a>"
      ]
    },
    {
      "cell_type": "code",
      "source": [
        "pip install selenium"
      ],
      "metadata": {
        "id": "tWhEOp94m-or",
        "outputId": "4410a39a-e8e6-44b1-ba8c-a88ed43a4b04",
        "colab": {
          "base_uri": "https://localhost:8080/"
        }
      },
      "execution_count": 1,
      "outputs": [
        {
          "output_type": "stream",
          "name": "stdout",
          "text": [
            "Collecting selenium\n",
            "  Downloading selenium-4.27.1-py3-none-any.whl.metadata (7.1 kB)\n",
            "Requirement already satisfied: urllib3<3,>=1.26 in /usr/local/lib/python3.10/dist-packages (from urllib3[socks]<3,>=1.26->selenium) (2.3.0)\n",
            "Collecting trio~=0.17 (from selenium)\n",
            "  Downloading trio-0.28.0-py3-none-any.whl.metadata (8.5 kB)\n",
            "Collecting trio-websocket~=0.9 (from selenium)\n",
            "  Downloading trio_websocket-0.11.1-py3-none-any.whl.metadata (4.7 kB)\n",
            "Requirement already satisfied: certifi>=2021.10.8 in /usr/local/lib/python3.10/dist-packages (from selenium) (2024.12.14)\n",
            "Requirement already satisfied: typing_extensions~=4.9 in /usr/local/lib/python3.10/dist-packages (from selenium) (4.12.2)\n",
            "Requirement already satisfied: websocket-client~=1.8 in /usr/local/lib/python3.10/dist-packages (from selenium) (1.8.0)\n",
            "Requirement already satisfied: attrs>=23.2.0 in /usr/local/lib/python3.10/dist-packages (from trio~=0.17->selenium) (24.3.0)\n",
            "Collecting sortedcontainers (from trio~=0.17->selenium)\n",
            "  Downloading sortedcontainers-2.4.0-py2.py3-none-any.whl.metadata (10 kB)\n",
            "Requirement already satisfied: idna in /usr/local/lib/python3.10/dist-packages (from trio~=0.17->selenium) (3.10)\n",
            "Collecting outcome (from trio~=0.17->selenium)\n",
            "  Downloading outcome-1.3.0.post0-py2.py3-none-any.whl.metadata (2.6 kB)\n",
            "Requirement already satisfied: sniffio>=1.3.0 in /usr/local/lib/python3.10/dist-packages (from trio~=0.17->selenium) (1.3.1)\n",
            "Requirement already satisfied: exceptiongroup in /usr/local/lib/python3.10/dist-packages (from trio~=0.17->selenium) (1.2.2)\n",
            "Collecting wsproto>=0.14 (from trio-websocket~=0.9->selenium)\n",
            "  Downloading wsproto-1.2.0-py3-none-any.whl.metadata (5.6 kB)\n",
            "Requirement already satisfied: pysocks!=1.5.7,<2.0,>=1.5.6 in /usr/local/lib/python3.10/dist-packages (from urllib3[socks]<3,>=1.26->selenium) (1.7.1)\n",
            "Requirement already satisfied: h11<1,>=0.9.0 in /usr/local/lib/python3.10/dist-packages (from wsproto>=0.14->trio-websocket~=0.9->selenium) (0.14.0)\n",
            "Downloading selenium-4.27.1-py3-none-any.whl (9.7 MB)\n",
            "\u001b[2K   \u001b[90m━━━━━━━━━━━━━━━━━━━━━━━━━━━━━━━━━━━━━━━━\u001b[0m \u001b[32m9.7/9.7 MB\u001b[0m \u001b[31m23.3 MB/s\u001b[0m eta \u001b[36m0:00:00\u001b[0m\n",
            "\u001b[?25hDownloading trio-0.28.0-py3-none-any.whl (486 kB)\n",
            "\u001b[2K   \u001b[90m━━━━━━━━━━━━━━━━━━━━━━━━━━━━━━━━━━━━━━━━\u001b[0m \u001b[32m486.3/486.3 kB\u001b[0m \u001b[31m9.4 MB/s\u001b[0m eta \u001b[36m0:00:00\u001b[0m\n",
            "\u001b[?25hDownloading trio_websocket-0.11.1-py3-none-any.whl (17 kB)\n",
            "Downloading wsproto-1.2.0-py3-none-any.whl (24 kB)\n",
            "Downloading outcome-1.3.0.post0-py2.py3-none-any.whl (10 kB)\n",
            "Downloading sortedcontainers-2.4.0-py2.py3-none-any.whl (29 kB)\n",
            "Installing collected packages: sortedcontainers, wsproto, outcome, trio, trio-websocket, selenium\n",
            "Successfully installed outcome-1.3.0.post0 selenium-4.27.1 sortedcontainers-2.4.0 trio-0.28.0 trio-websocket-0.11.1 wsproto-1.2.0\n"
          ]
        }
      ]
    },
    {
      "cell_type": "code",
      "source": [
        "from google.colab import drive\n",
        "drive.mount('/content/drive')"
      ],
      "metadata": {
        "colab": {
          "base_uri": "https://localhost:8080/"
        },
        "id": "WuNG4Z8ynECC",
        "outputId": "897542c6-f846-48d1-d609-3bc5064c32e7"
      },
      "execution_count": null,
      "outputs": [
        {
          "output_type": "stream",
          "name": "stdout",
          "text": [
            "Mounted at /content/drive\n"
          ]
        }
      ]
    },
    {
      "cell_type": "code",
      "source": [
        "#최초 1회\n",
        "!apt install chromium-chromedriver\n",
        "!cp /usr/lib/chromium-browser/chromedriver '/content/drive/MyDrive/Colab Notebooks' #\n",
        "!pip install chromedriver-autoinstaller\n"
      ],
      "metadata": {
        "id": "uPWZH0U1nfPe"
      },
      "execution_count": null,
      "outputs": []
    },
    {
      "cell_type": "code",
      "source": [
        "https://velog.io/@kite_day/colab-%EC%97%90%EC%84%9C-%EC%9B%B9-%ED%81%AC%EB%A1%A4%EB%A7%81%ED%95%98%EA%B8%B0-selenium\n",
        "https://m.blog.naver.com/sinx2233/223223626622 # selenium 응답 확인 seleniumwire\n",
        "https://velog.io/@sangyeon217/selenium-webdriver-wait webdriverwait\n"
      ],
      "metadata": {
        "id": "yap-5-rP4KUj"
      },
      "execution_count": null,
      "outputs": []
    },
    {
      "cell_type": "code",
      "execution_count": 2,
      "metadata": {
        "id": "HOSt56xNlqm9"
      },
      "outputs": [],
      "source": [
        "from bs4 import BeautifulSoup, Tag\n",
        "import requests\n",
        "import re\n",
        "import random\n",
        "import sys\n",
        "import selenium\n",
        "import time\n",
        "from selenium.webdriver.common.by import By\n",
        "from selenium.webdriver.support.ui import WebDriverWait\n",
        "from selenium.webdriver.support import expected_conditions as EC\n",
        "from selenium.webdriver.common.keys import Keys\n",
        "from selenium import webdriver"
      ]
    },
    {
      "cell_type": "code",
      "source": [
        "chrome_path = \"/content/drive/MyDrive/Colab Notebooks/chromedriver\"\n",
        "sys.path.insert(0,chrome_path)\n",
        "chrome_options = webdriver.ChromeOptions()\n",
        "chrome_options.add_argument('--headless') # ensure GUI is off\n",
        "chrome_options.add_argument('--no-sandbox')\n",
        "chrome_options.add_argument('--disable-dev-shm-usage')  # set path to chromedriver as per your configuration\n",
        "chrome_options.add_argument('lang=ko_KR') # 한국어\n"
      ],
      "metadata": {
        "id": "cdQNQiORntHm"
      },
      "execution_count": 3,
      "outputs": []
    },
    {
      "cell_type": "code",
      "source": [
        "# 랜덤문서에 방문해서 그문서에 기여한 사람 집계\n",
        "# 다른 문서에 기여한 사람 집계 -> 모두 나라별\n",
        "# 그래서 나라별 기여도가 비슷할수록 비슷한 문서/연관성이 높다고 볼수 있지않을까?\n",
        "\n",
        "# 외부링크들을 모아서 Set에 넣고\n",
        "#위키 재밌는 문서 찾기\n",
        "# 랜덤문서 찾고 연관 문서가 다양한 것 ? 많은것?"
      ],
      "metadata": {
        "id": "3qYYpHVLvfgc"
      },
      "execution_count": null,
      "outputs": []
    },
    {
      "cell_type": "code",
      "source": [
        "def get_href_name(url) :\n",
        "  if url is not None :\n",
        "    if url.startswith(\"https://en.wikipedia.org/wiki/\") :\n",
        "      parts = url.split(\"/\")\n",
        "      wiki_index = parts.index(\"wiki\")\n",
        "      if \"Wikipedia\" not in parts[wiki_index+1] :\n",
        "        return parts[wiki_index+1]\n",
        "  else :\n",
        "    return None\n",
        "#cite도 없어야함, category 이것도 없어야함\n",
        "#나머지 중복링크는 직접 수작업으로 처리\n",
        "\n",
        "# 아래는 예시\n",
        "urls = [\n",
        "    \"https://en.wikipedia.org/wiki/Geographic_coordinate_system\",\n",
        "    \"https://en.wikipedia.org/wiki/New_South_Wales\",\n",
        "    \"https://en.wikipedia.org/wiki/Main_Page\",  # 정상적인 URL\n",
        "    \"https://en.wikipedia.org/\",  # wiki가 없는 경우\n",
        "    \"https://www.example.com/page1\", # 다른 URL\n",
        "    \"https://en.wikipedia.org/wiki/\",\n",
        "    \"https://en.wikipedia.org/wiki/Wollemi_National_Park\",\n",
        "    \"https://en.wikipedia.org/wiki/Wikipedia:Text_of_the_Creative_Commons_Attribution-ShareAlike_4.0_International_License\",\n",
        "    \"https://foundation.wikimedia.org/wiki/Special:MyLanguage/Policy:Universal_Code_of_Conduct\"\n",
        "\n",
        "]\n",
        "\n",
        "\n",
        "for url in urls :\n",
        "  print(get_href_name(url))\n"
      ],
      "metadata": {
        "colab": {
          "base_uri": "https://localhost:8080/"
        },
        "id": "dpQOPYiddw-1",
        "outputId": "d08c00d6-6d05-4d7c-da2c-64db77bd977d",
        "collapsed": true
      },
      "execution_count": 53,
      "outputs": [
        {
          "output_type": "stream",
          "name": "stdout",
          "text": [
            "Geographic_coordinate_system\n",
            "New_South_Wales\n",
            "Main_Page\n",
            "None\n",
            "None\n",
            "\n",
            "Wollemi_National_Park\n",
            "None\n",
            "None\n"
          ]
        }
      ]
    },
    {
      "cell_type": "code",
      "source": [
        "def get_href_set(driver) :\n",
        "  href_set = set()\n",
        "  a_tag = driver.find_elements(By.TAG_NAME, 'a')\n",
        "  for each in a_tag :\n",
        "    href_url = each.get_attribute('href')\n",
        "    href_value = get_href_name(href_url)\n",
        "    if href_value is not None and href_value not in basic_title :\n",
        "      href_set.add(href_value)\n",
        "  return href_set\n",
        "\n",
        "# href 링크 모으기. class=new인건 수집x. /wiki/... 형식이여야함"
      ],
      "metadata": {
        "id": "WSOB5okIxmBh",
        "collapsed": true
      },
      "execution_count": 56,
      "outputs": []
    },
    {
      "cell_type": "code",
      "source": [
        "def random_wiki_page() :\n",
        "  url = \"https://en.wikipedia.org/wiki/Special:Random\"\n",
        "  driver = webdriver.Chrome(options = chrome_options)\n",
        "  driver.get(url)\n",
        "  html = driver.page_source\n",
        "  soup = BeautifulSoup(html, 'html.parser')\n",
        "  Title = driver.find_element(By.ID, 'firstHeading').text\n",
        "  return driver"
      ],
      "metadata": {
        "id": "mjivM89ExmDj"
      },
      "execution_count": 20,
      "outputs": []
    },
    {
      "cell_type": "code",
      "source": [
        "basic_title = list({'Special:RecentChangesLinked', 'Special:MyContributions', 'Main_Page', 'Special:RecentChanges', 'Special:Search', 'Special:Random', 'Special:SpecialPages', 'Help:Category', 'Help:Introduction', 'Help:Contents', 'Special:WhatLinksHere', 'Special:MyTalk', 'Portal:Current_events'})"
      ],
      "metadata": {
        "id": "MGKt-jzWFzIr"
      },
      "execution_count": 49,
      "outputs": []
    },
    {
      "cell_type": "code",
      "source": [
        "\n",
        "basic_urls = list()\n",
        "\n",
        "for each in basic_title :\n",
        "  basic_urls.append(\"https://en.wikipedia.org/wiki/\"+each)\n",
        "\n",
        "print(basic_urls)"
      ],
      "metadata": {
        "id": "cFO7Mm4OpMZQ",
        "outputId": "5648032c-a05a-4382-b3bc-6bd0468b071b",
        "colab": {
          "base_uri": "https://localhost:8080/"
        }
      },
      "execution_count": 55,
      "outputs": [
        {
          "output_type": "stream",
          "name": "stdout",
          "text": [
            "['https://en.wikipedia.org/wiki/Special:RecentChangesLinked', 'https://en.wikipedia.org/wiki/Special:MyContributions', 'https://en.wikipedia.org/wiki/Main_Page', 'https://en.wikipedia.org/wiki/Special:RecentChanges', 'https://en.wikipedia.org/wiki/Special:Search', 'https://en.wikipedia.org/wiki/Special:Random', 'https://en.wikipedia.org/wiki/Special:SpecialPages', 'https://en.wikipedia.org/wiki/Help:Category', 'https://en.wikipedia.org/wiki/Help:Introduction', 'https://en.wikipedia.org/wiki/Help:Contents', 'https://en.wikipedia.org/wiki/Special:WhatLinksHere', 'https://en.wikipedia.org/wiki/Special:MyTalk', 'https://en.wikipedia.org/wiki/Portal:Current_events']\n"
          ]
        }
      ]
    },
    {
      "cell_type": "code",
      "source": [
        "driver = random_wiki_page()\n",
        "\n",
        "print(get_href_set(driver))"
      ],
      "metadata": {
        "id": "zIOjKWOsD5ri",
        "outputId": "81ef647f-93db-4072-ddfe-5ffbbacdb849",
        "colab": {
          "base_uri": "https://localhost:8080/"
        }
      },
      "execution_count": 57,
      "outputs": [
        {
          "output_type": "stream",
          "name": "stdout",
          "text": [
            "{'The_Color_of_Me#cite_ref-ACC_4-2', 'Santa_Fe_Film_Festival', 'Category:2010s_English-language_films', 'The_Color_of_Me#cite_ref-11', 'The_Color_of_Me#cite_ref-8', 'The_Color_of_Me#cite_ref-ACC_4-3', 'The_Color_of_Me#Background', 'The_Color_of_Me#cite_ref-ACC_4-5', 'The_Color_of_Me#cite_note-24', 'Fantasy_film', 'The_Color_of_Me#cite_ref-DD_3-2', 'Indian_people', 'Category:Asian-American_drama_films', 'Nevada', 'The_Color_of_Me#cite_ref-10', 'The_Color_of_Me#cite_ref-12', 'Category:2018_drama_films', 'Category:2018_short_films', 'Amazon_Prime_Video', 'The_Color_of_Me#cite_ref-7', 'The_Color_of_Me#', 'Category:Template_film_date_with_1_release_date', 'The_Color_of_Me#cite_ref-1', 'The_Color_of_Me#cite_note-5', 'The_Color_of_Me', 'The_Color_of_Me#cite_ref-ACC_4-0', 'The_Color_of_Me#cite_note-18', 'The_Color_of_Me#cite_ref-14', 'Category:Hispanic_and_Latino_American_drama_films', 'The_Color_of_Me#Critical_reception_and_reviews', 'Category:English-language_fantasy_films', 'Category:Articles_with_short_description', 'The_Color_of_Me#Plot', 'The_Color_of_Me#cite_note-9', 'The_Color_of_Me#bodyContent', 'Atlanta', 'The_Color_of_Me#cite_note-20', 'The_Color_of_Me#cite_ref-DD_3-1', 'The_Color_of_Me#cite_ref-9', 'File:The_Color_of_Me.jpg', 'The_Color_of_Me#cite_note-16', 'Cincinnati,_OH', 'The_Color_of_Me#References', 'The_Color_of_Me#Cast', 'California', 'Talk:The_Color_of_Me', 'New_York_(state)', 'The_Color_of_Me?action=edit', 'The_Color_of_Me#cite_ref-2', 'The_Color_of_Me#cite_note-22', 'The_Color_of_Me#cite_ref-20', 'The_Color_of_Me#cite_ref-6', 'The_Color_of_Me#cite_ref-17', 'New_Jersey', 'The_Color_of_Me#cite_note-15', 'Drama_(film_and_television)', 'The_Color_of_Me#cite_note-1', 'Caucasian_race', 'Indian_Americans', 'United_States', 'The_Color_of_Me#cite_note-23', 'The_Color_of_Me#cite_note-12', 'The_Color_of_Me#cite_ref-23', 'Category:2010s_American_films', 'African_Americans', 'Los_Angeles', 'The_Color_of_Me#cite_note-14', 'Category:2018_films', 'The_Color_of_Me#cite_ref-22', 'The_Color_of_Me#cite_ref-21', 'The_Color_of_Me#cite_ref-24', 'The_Color_of_Me#cite_ref-18', 'Category:Short_description_matches_Wikidata', 'The_Color_of_Me#cite_note-10', 'Hispanic', 'Texas', 'The_Color_of_Me#cite_ref-ACC_4-4', 'Category:Use_Indian_English_from_June_2019', 'Tennessee', 'The_Color_of_Me#cite_ref-19', 'The_Color_of_Me#cite_note-13', 'New_Mexico', 'Rohit_Gupta', 'The_Color_of_Me#cite_note-2', 'Category:Films_about_Indian_Americans', 'Category:American_independent_films', 'Category:2018_fantasy_films', 'The_Color_of_Me#cite_note-21', 'The_Color_of_Me#cite_note-17', 'Category:American_drama_short_films', 'The_Color_of_Me#Official_selections_and_screenings', 'Chinese_people', 'The_Color_of_Me#External_links', 'Category:African-American_drama_films', 'The_Color_of_Me#cite_note-19', 'The_Color_of_Me#cite_ref-DD_3-0', 'The_Color_of_Me#cite_ref-ACC_4-1', 'The_Color_of_Me#cite_note-ACC-4', 'The_Color_of_Me#cite_note-7', 'Charlotte,_North_Carolina', 'Maryland', 'The_Color_of_Me#cite_ref-13', 'The_Color_of_Me#cite_ref-16', 'Golden_Door_Film_Festival', 'The_Color_of_Me#cite_note-8', 'IMDb_(identifier)', 'The_Color_of_Me#cite_note-6', 'The_Color_of_Me#cite_ref-DD_3-3', 'The_Color_of_Me#cite_note-11', 'Category:Use_dmy_dates_from_June_2019', 'The_Color_of_Me#cite_ref-15', 'Category:English-language_short_films', 'The_Color_of_Me#cite_ref-5', 'The_Color_of_Me#cite_note-DD-3', 'The_Color_of_Me#Awards_and_nominations'}\n"
          ]
        }
      ]
    },
    {
      "cell_type": "code",
      "source": [
        "def how_many_href(driver) :\n",
        "  a_tag = driver.find_elements(By.TAG_NAME, 'a')\n",
        "  return len(a_tag)"
      ],
      "metadata": {
        "id": "5omSBR2JD5t3"
      },
      "execution_count": 58,
      "outputs": []
    },
    {
      "cell_type": "code",
      "source": [],
      "metadata": {
        "id": "G72eyT3aHJ0l"
      },
      "execution_count": null,
      "outputs": []
    },
    {
      "cell_type": "code",
      "source": [],
      "metadata": {
        "id": "byWLLlioHJ3b"
      },
      "execution_count": null,
      "outputs": []
    },
    {
      "cell_type": "code",
      "source": [],
      "metadata": {
        "id": "Vxi1D7pjD5wX"
      },
      "execution_count": null,
      "outputs": []
    },
    {
      "cell_type": "code",
      "source": [],
      "metadata": {
        "id": "Le2obgTUD5zm"
      },
      "execution_count": null,
      "outputs": []
    }
  ]
}